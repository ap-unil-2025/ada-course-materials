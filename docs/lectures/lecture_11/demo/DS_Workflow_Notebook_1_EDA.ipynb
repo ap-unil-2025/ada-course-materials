{
 "cells": [
  {
   "cell_type": "markdown",
   "id": "b3768264",
   "metadata": {},
   "source": [
    "\n",
    "# The End-to-End Data Science Workflow — Notebook 1/4\n",
    "\n",
    "**Goal.** Systematically inspect, clean, and visualize a raw loan-default dataset, form initial hypotheses, and produce a minimal, reproducible artifact for modeling.\n",
    "\n",
    "**This notebook emphasizes best practices:** reproducibility, transparent EDA with narrative + code, careful handling of missingness/outliers/types, and explicit logging of decisions.\n",
    "\n",
    "**Libraries used (with roles):**\n",
    "- `numpy`: numerical computing, random seeds.\n",
    "- `pandas`: data loading/manipulation, type handling, EDA summaries.\n",
    "- `matplotlib`: deterministic plotting (histograms, boxplots, heatmaps).\n",
    "- `scipy` (optional): robust stats helpers (commented alternative).\n",
    "- `pathlib`: safe file paths.\n"
   ]
  },
  {
   "cell_type": "code",
   "execution_count": 1,
   "id": "66db614d",
   "metadata": {},
   "outputs": [],
   "source": [
    "\n",
    "# ====== Configuration & Imports ======\n",
    "# BEST PRACTICE: Centralize seeds and paths for reproducibility across notebooks.\n",
    "import os\n",
    "import numpy as np\n",
    "import pandas as pd\n",
    "import matplotlib.pyplot as plt\n",
    "from pathlib import Path\n",
    "\n",
    "RANDOM_SEED = 42\n",
    "np.random.seed(RANDOM_SEED)\n",
    "\n",
    "DATA_DIR = Path(\"data\"); DATA_DIR.mkdir(exist_ok=True)\n",
    "ARTIFACTS_DIR = Path(\"artifacts\"); ARTIFACTS_DIR.mkdir(exist_ok=True)\n",
    "\n",
    "RAW_DATA_PATH = DATA_DIR / \"loan_default_raw.csv\"\n",
    "CLEAN_DATA_PATH = DATA_DIR / \"loan_default_clean_base.csv\"\n",
    "EDA_LOG_PATH = ARTIFACTS_DIR / \"eda_log.txt\"\n",
    "\n",
    "plt.rcParams[\"figure.figsize\"] = (7, 4.5)  # one-figure-per-plot; deterministic look\n"
   ]
  },
  {
   "cell_type": "code",
   "execution_count": 2,
   "id": "3c922faf",
   "metadata": {},
   "outputs": [
    {
     "name": "stdout",
     "output_type": "stream",
     "text": [
      "Found RAW dataset at: data/loan_default_raw.csv\n"
     ]
    }
   ],
   "source": [
    "\n",
    "# ====== Deterministic Synthetic Data (if raw missing) ======\n",
    "# BEST PRACTICE: Ensure your teaching/demo pipeline can run end-to-end without external data.\n",
    "def generate_synthetic_loan_data(n=8000, seed=RANDOM_SEED):\n",
    "    rng = np.random.default_rng(seed)\n",
    "    states = [f\"S{i:02d}\" for i in range(1, 11)]\n",
    "    edu_levels = [\"High School\", \"Bachelor\", \"Master\", \"PhD\"]\n",
    "    ownership = [\"RENT\", \"OWN\", \"MORTGAGE\", \"OTHER\"]\n",
    "    purposes = [\"debt_consolidation\", \"car\", \"home_improvement\", \"small_business\", \"medical\"]\n",
    "    genders = [\"F\", \"M\"]\n",
    "\n",
    "    start = np.datetime64(\"2023-01-01\")\n",
    "    application_date = start + rng.integers(0, 730, n).astype(\"timedelta64[D]\")\n",
    "\n",
    "    age = rng.integers(18, 75, n)\n",
    "    income = np.clip(rng.lognormal(10.2, 0.55, n), 8_000, 600_000)\n",
    "    loan_amount = np.clip(rng.lognormal(9.0, 0.65, n), 1_000, 150_000)\n",
    "    term_months = rng.choice([36, 60], n, p=[0.6, 0.4])\n",
    "    interest_rate = np.clip(rng.normal(0.11, 0.03, n), 0.03, 0.35)\n",
    "    credit_score = np.clip(rng.normal(680, 80, n).astype(int), 300, 850)\n",
    "    employment_years = rng.integers(0, 40, n)\n",
    "    total_debt = np.clip(rng.lognormal(9.2, 0.7, n), 0, 400_000)\n",
    "\n",
    "    state = rng.choice(states, n)\n",
    "    education_level = rng.choice(edu_levels, n, p=[0.35, 0.35, 0.25, 0.05])\n",
    "    home_ownership = rng.choice(ownership, n, p=[0.45, 0.2, 0.33, 0.02])\n",
    "    purpose = rng.choice(purposes, n, p=[0.55, 0.1, 0.15, 0.12, 0.08])\n",
    "    applicant_gender = rng.choice(genders, n, p=[0.47, 0.53])\n",
    "\n",
    "    # Risk score (logit): plausible dependence\n",
    "    x_beta = (\n",
    "        -3.0 + 0.00003*loan_amount + 2.8*interest_rate - 0.000004*income\n",
    "        - 0.003*(credit_score - 680) - 0.015*employment_years\n",
    "        + 0.25*(term_months == 60).astype(float)\n",
    "        + 0.12*(home_ownership == \"RENT\").astype(float)\n",
    "        + 0.15*(purpose == \"small_business\").astype(float)\n",
    "        + 0.10*(purpose == \"medical\").astype(float)\n",
    "    )\n",
    "    dti = np.clip(total_debt / np.maximum(income, 1.0), 0, 6.0)\n",
    "    x_beta += 0.6*dti\n",
    "    p = 1/(1+np.exp(-x_beta))\n",
    "    default = rng.binomial(1, p, n)\n",
    "\n",
    "    df = pd.DataFrame({\n",
    "        \"application_id\": np.arange(1, n+1),\n",
    "        \"application_date\": application_date.astype(\"datetime64[ns]\"),\n",
    "        \"age\": age, \"income\": income, \"loan_amount\": loan_amount, \"term_months\": term_months,\n",
    "        \"interest_rate\": interest_rate, \"credit_score\": credit_score, \"employment_years\": employment_years,\n",
    "        \"total_debt\": total_debt, \"state\": state, \"education_level\": education_level,\n",
    "        \"home_ownership\": home_ownership, \"purpose\": purpose, \"applicant_gender\": applicant_gender,\n",
    "        \"default\": default\n",
    "    })\n",
    "    # Inject missingness and outliers\n",
    "    rng_mask = rng.random(n)\n",
    "    df.loc[rng_mask < 0.05, \"income\"] = np.nan\n",
    "    df.loc[(rng_mask >= 0.05) & (rng_mask < 0.08), \"credit_score\"] = np.nan\n",
    "    df.loc[(rng_mask >= 0.08) & (rng_mask < 0.10), \"purpose\"] = np.nan\n",
    "    out_idx = rng.choice(df.index, 12, replace=False)\n",
    "    df.loc[out_idx, \"income\"] = df.loc[out_idx, \"income\"]*10\n",
    "    df.loc[out_idx, \"loan_amount\"] = df.loc[out_idx, \"loan_amount\"]*4\n",
    "    return df.sample(frac=1.0, random_state=seed).reset_index(drop=True)\n",
    "\n",
    "if not RAW_DATA_PATH.exists():\n",
    "    df_raw = generate_synthetic_loan_data()\n",
    "    df_raw.to_csv(RAW_DATA_PATH, index=False)\n",
    "    print(\"Generated synthetic RAW dataset at:\", RAW_DATA_PATH)\n",
    "else:\n",
    "    print(\"Found RAW dataset at:\", RAW_DATA_PATH)\n"
   ]
  },
  {
   "cell_type": "code",
   "execution_count": 3,
   "id": "c6b428b6",
   "metadata": {},
   "outputs": [
    {
     "data": {
      "text/html": [
       "<div>\n",
       "<style scoped>\n",
       "    .dataframe tbody tr th:only-of-type {\n",
       "        vertical-align: middle;\n",
       "    }\n",
       "\n",
       "    .dataframe tbody tr th {\n",
       "        vertical-align: top;\n",
       "    }\n",
       "\n",
       "    .dataframe thead th {\n",
       "        text-align: right;\n",
       "    }\n",
       "</style>\n",
       "<table border=\"1\" class=\"dataframe\">\n",
       "  <thead>\n",
       "    <tr style=\"text-align: right;\">\n",
       "      <th></th>\n",
       "      <th>application_id</th>\n",
       "      <th>application_date</th>\n",
       "      <th>age</th>\n",
       "      <th>income</th>\n",
       "      <th>loan_amount</th>\n",
       "      <th>term_months</th>\n",
       "      <th>interest_rate</th>\n",
       "      <th>credit_score</th>\n",
       "      <th>employment_years</th>\n",
       "      <th>total_debt</th>\n",
       "      <th>state</th>\n",
       "      <th>education_level</th>\n",
       "      <th>home_ownership</th>\n",
       "      <th>purpose</th>\n",
       "      <th>applicant_gender</th>\n",
       "      <th>default</th>\n",
       "    </tr>\n",
       "  </thead>\n",
       "  <tbody>\n",
       "    <tr>\n",
       "      <th>0</th>\n",
       "      <td>1783</td>\n",
       "      <td>2023-01-18</td>\n",
       "      <td>66</td>\n",
       "      <td>33787.458397</td>\n",
       "      <td>6513.018145</td>\n",
       "      <td>36</td>\n",
       "      <td>0.140554</td>\n",
       "      <td>625.0</td>\n",
       "      <td>6</td>\n",
       "      <td>6201.768857</td>\n",
       "      <td>S08</td>\n",
       "      <td>High School</td>\n",
       "      <td>MORTGAGE</td>\n",
       "      <td>car</td>\n",
       "      <td>M</td>\n",
       "      <td>0</td>\n",
       "    </tr>\n",
       "    <tr>\n",
       "      <th>1</th>\n",
       "      <td>3918</td>\n",
       "      <td>2024-09-12</td>\n",
       "      <td>38</td>\n",
       "      <td>10775.549581</td>\n",
       "      <td>10223.110849</td>\n",
       "      <td>36</td>\n",
       "      <td>0.076815</td>\n",
       "      <td>698.0</td>\n",
       "      <td>10</td>\n",
       "      <td>6662.303728</td>\n",
       "      <td>S05</td>\n",
       "      <td>Master</td>\n",
       "      <td>OWN</td>\n",
       "      <td>debt_consolidation</td>\n",
       "      <td>F</td>\n",
       "      <td>0</td>\n",
       "    </tr>\n",
       "    <tr>\n",
       "      <th>2</th>\n",
       "      <td>222</td>\n",
       "      <td>2023-11-29</td>\n",
       "      <td>35</td>\n",
       "      <td>15512.037115</td>\n",
       "      <td>3822.374314</td>\n",
       "      <td>36</td>\n",
       "      <td>0.132256</td>\n",
       "      <td>783.0</td>\n",
       "      <td>14</td>\n",
       "      <td>8143.784048</td>\n",
       "      <td>S08</td>\n",
       "      <td>PhD</td>\n",
       "      <td>MORTGAGE</td>\n",
       "      <td>debt_consolidation</td>\n",
       "      <td>M</td>\n",
       "      <td>0</td>\n",
       "    </tr>\n",
       "    <tr>\n",
       "      <th>3</th>\n",
       "      <td>2136</td>\n",
       "      <td>2024-05-15</td>\n",
       "      <td>57</td>\n",
       "      <td>13904.011506</td>\n",
       "      <td>9560.964478</td>\n",
       "      <td>36</td>\n",
       "      <td>0.139436</td>\n",
       "      <td>609.0</td>\n",
       "      <td>13</td>\n",
       "      <td>9755.003469</td>\n",
       "      <td>S02</td>\n",
       "      <td>Bachelor</td>\n",
       "      <td>MORTGAGE</td>\n",
       "      <td>debt_consolidation</td>\n",
       "      <td>F</td>\n",
       "      <td>0</td>\n",
       "    </tr>\n",
       "    <tr>\n",
       "      <th>4</th>\n",
       "      <td>5225</td>\n",
       "      <td>2024-01-21</td>\n",
       "      <td>62</td>\n",
       "      <td>19459.656827</td>\n",
       "      <td>13635.613198</td>\n",
       "      <td>60</td>\n",
       "      <td>0.115759</td>\n",
       "      <td>599.0</td>\n",
       "      <td>21</td>\n",
       "      <td>12570.901561</td>\n",
       "      <td>S03</td>\n",
       "      <td>PhD</td>\n",
       "      <td>OWN</td>\n",
       "      <td>debt_consolidation</td>\n",
       "      <td>F</td>\n",
       "      <td>1</td>\n",
       "    </tr>\n",
       "  </tbody>\n",
       "</table>\n",
       "</div>"
      ],
      "text/plain": [
       "   application_id application_date  age        income   loan_amount  \\\n",
       "0            1783       2023-01-18   66  33787.458397   6513.018145   \n",
       "1            3918       2024-09-12   38  10775.549581  10223.110849   \n",
       "2             222       2023-11-29   35  15512.037115   3822.374314   \n",
       "3            2136       2024-05-15   57  13904.011506   9560.964478   \n",
       "4            5225       2024-01-21   62  19459.656827  13635.613198   \n",
       "\n",
       "   term_months  interest_rate  credit_score  employment_years    total_debt  \\\n",
       "0           36       0.140554         625.0                 6   6201.768857   \n",
       "1           36       0.076815         698.0                10   6662.303728   \n",
       "2           36       0.132256         783.0                14   8143.784048   \n",
       "3           36       0.139436         609.0                13   9755.003469   \n",
       "4           60       0.115759         599.0                21  12570.901561   \n",
       "\n",
       "  state education_level home_ownership             purpose applicant_gender  \\\n",
       "0   S08     High School       MORTGAGE                 car                M   \n",
       "1   S05          Master            OWN  debt_consolidation                F   \n",
       "2   S08             PhD       MORTGAGE  debt_consolidation                M   \n",
       "3   S02        Bachelor       MORTGAGE  debt_consolidation                F   \n",
       "4   S03             PhD            OWN  debt_consolidation                F   \n",
       "\n",
       "   default  \n",
       "0        0  \n",
       "1        0  \n",
       "2        0  \n",
       "3        0  \n",
       "4        1  "
      ]
     },
     "metadata": {},
     "output_type": "display_data"
    },
    {
     "name": "stdout",
     "output_type": "stream",
     "text": [
      "\n",
      ".info():\n",
      "<class 'pandas.core.frame.DataFrame'>\n",
      "RangeIndex: 6000 entries, 0 to 5999\n",
      "Data columns (total 16 columns):\n",
      " #   Column            Non-Null Count  Dtype  \n",
      "---  ------            --------------  -----  \n",
      " 0   application_id    6000 non-null   int64  \n",
      " 1   application_date  6000 non-null   object \n",
      " 2   age               6000 non-null   int64  \n",
      " 3   income            5691 non-null   float64\n",
      " 4   loan_amount       6000 non-null   float64\n",
      " 5   term_months       6000 non-null   int64  \n",
      " 6   interest_rate     6000 non-null   float64\n",
      " 7   credit_score      5835 non-null   float64\n",
      " 8   employment_years  6000 non-null   int64  \n",
      " 9   total_debt        6000 non-null   float64\n",
      " 10  state             6000 non-null   object \n",
      " 11  education_level   6000 non-null   object \n",
      " 12  home_ownership    6000 non-null   object \n",
      " 13  purpose           5878 non-null   object \n",
      " 14  applicant_gender  6000 non-null   object \n",
      " 15  default           6000 non-null   int64  \n",
      "dtypes: float64(5), int64(5), object(6)\n",
      "memory usage: 750.1+ KB\n",
      "None\n",
      "\n",
      "Numeric summary (.describe):\n"
     ]
    },
    {
     "data": {
      "text/html": [
       "<div>\n",
       "<style scoped>\n",
       "    .dataframe tbody tr th:only-of-type {\n",
       "        vertical-align: middle;\n",
       "    }\n",
       "\n",
       "    .dataframe tbody tr th {\n",
       "        vertical-align: top;\n",
       "    }\n",
       "\n",
       "    .dataframe thead th {\n",
       "        text-align: right;\n",
       "    }\n",
       "</style>\n",
       "<table border=\"1\" class=\"dataframe\">\n",
       "  <thead>\n",
       "    <tr style=\"text-align: right;\">\n",
       "      <th></th>\n",
       "      <th>count</th>\n",
       "      <th>mean</th>\n",
       "      <th>std</th>\n",
       "      <th>min</th>\n",
       "      <th>25%</th>\n",
       "      <th>50%</th>\n",
       "      <th>75%</th>\n",
       "      <th>max</th>\n",
       "    </tr>\n",
       "  </thead>\n",
       "  <tbody>\n",
       "    <tr>\n",
       "      <th>application_id</th>\n",
       "      <td>6000.0</td>\n",
       "      <td>3000.500000</td>\n",
       "      <td>1732.195139</td>\n",
       "      <td>1.000000</td>\n",
       "      <td>1500.750000</td>\n",
       "      <td>3000.500000</td>\n",
       "      <td>4500.250000</td>\n",
       "      <td>6000.000000</td>\n",
       "    </tr>\n",
       "    <tr>\n",
       "      <th>age</th>\n",
       "      <td>6000.0</td>\n",
       "      <td>45.773000</td>\n",
       "      <td>16.286048</td>\n",
       "      <td>18.000000</td>\n",
       "      <td>32.000000</td>\n",
       "      <td>46.000000</td>\n",
       "      <td>60.000000</td>\n",
       "      <td>74.000000</td>\n",
       "    </tr>\n",
       "    <tr>\n",
       "      <th>income</th>\n",
       "      <td>5691.0</td>\n",
       "      <td>30762.394053</td>\n",
       "      <td>19277.747295</td>\n",
       "      <td>8000.000000</td>\n",
       "      <td>19226.571710</td>\n",
       "      <td>26432.054120</td>\n",
       "      <td>37584.785836</td>\n",
       "      <td>384981.899103</td>\n",
       "    </tr>\n",
       "    <tr>\n",
       "      <th>loan_amount</th>\n",
       "      <td>6000.0</td>\n",
       "      <td>9883.951683</td>\n",
       "      <td>6812.887770</td>\n",
       "      <td>1000.000000</td>\n",
       "      <td>5483.359687</td>\n",
       "      <td>8107.067326</td>\n",
       "      <td>12205.389834</td>\n",
       "      <td>109601.337157</td>\n",
       "    </tr>\n",
       "    <tr>\n",
       "      <th>term_months</th>\n",
       "      <td>6000.0</td>\n",
       "      <td>45.732000</td>\n",
       "      <td>11.784707</td>\n",
       "      <td>36.000000</td>\n",
       "      <td>36.000000</td>\n",
       "      <td>36.000000</td>\n",
       "      <td>60.000000</td>\n",
       "      <td>60.000000</td>\n",
       "    </tr>\n",
       "    <tr>\n",
       "      <th>interest_rate</th>\n",
       "      <td>6000.0</td>\n",
       "      <td>0.110571</td>\n",
       "      <td>0.030234</td>\n",
       "      <td>0.030000</td>\n",
       "      <td>0.090024</td>\n",
       "      <td>0.110822</td>\n",
       "      <td>0.130768</td>\n",
       "      <td>0.220475</td>\n",
       "    </tr>\n",
       "    <tr>\n",
       "      <th>credit_score</th>\n",
       "      <td>5835.0</td>\n",
       "      <td>679.138132</td>\n",
       "      <td>78.732112</td>\n",
       "      <td>339.000000</td>\n",
       "      <td>625.000000</td>\n",
       "      <td>679.000000</td>\n",
       "      <td>734.000000</td>\n",
       "      <td>850.000000</td>\n",
       "    </tr>\n",
       "    <tr>\n",
       "      <th>employment_years</th>\n",
       "      <td>6000.0</td>\n",
       "      <td>19.668333</td>\n",
       "      <td>11.539881</td>\n",
       "      <td>0.000000</td>\n",
       "      <td>10.000000</td>\n",
       "      <td>20.000000</td>\n",
       "      <td>30.000000</td>\n",
       "      <td>39.000000</td>\n",
       "    </tr>\n",
       "    <tr>\n",
       "      <th>total_debt</th>\n",
       "      <td>6000.0</td>\n",
       "      <td>12423.764224</td>\n",
       "      <td>10100.554133</td>\n",
       "      <td>696.048644</td>\n",
       "      <td>6180.736601</td>\n",
       "      <td>9755.531975</td>\n",
       "      <td>15601.100825</td>\n",
       "      <td>300000.000000</td>\n",
       "    </tr>\n",
       "    <tr>\n",
       "      <th>default</th>\n",
       "      <td>6000.0</td>\n",
       "      <td>0.103167</td>\n",
       "      <td>0.304202</td>\n",
       "      <td>0.000000</td>\n",
       "      <td>0.000000</td>\n",
       "      <td>0.000000</td>\n",
       "      <td>0.000000</td>\n",
       "      <td>1.000000</td>\n",
       "    </tr>\n",
       "  </tbody>\n",
       "</table>\n",
       "</div>"
      ],
      "text/plain": [
       "                   count          mean           std          min  \\\n",
       "application_id    6000.0   3000.500000   1732.195139     1.000000   \n",
       "age               6000.0     45.773000     16.286048    18.000000   \n",
       "income            5691.0  30762.394053  19277.747295  8000.000000   \n",
       "loan_amount       6000.0   9883.951683   6812.887770  1000.000000   \n",
       "term_months       6000.0     45.732000     11.784707    36.000000   \n",
       "interest_rate     6000.0      0.110571      0.030234     0.030000   \n",
       "credit_score      5835.0    679.138132     78.732112   339.000000   \n",
       "employment_years  6000.0     19.668333     11.539881     0.000000   \n",
       "total_debt        6000.0  12423.764224  10100.554133   696.048644   \n",
       "default           6000.0      0.103167      0.304202     0.000000   \n",
       "\n",
       "                           25%           50%           75%            max  \n",
       "application_id     1500.750000   3000.500000   4500.250000    6000.000000  \n",
       "age                  32.000000     46.000000     60.000000      74.000000  \n",
       "income            19226.571710  26432.054120  37584.785836  384981.899103  \n",
       "loan_amount        5483.359687   8107.067326  12205.389834  109601.337157  \n",
       "term_months          36.000000     36.000000     60.000000      60.000000  \n",
       "interest_rate         0.090024      0.110822      0.130768       0.220475  \n",
       "credit_score        625.000000    679.000000    734.000000     850.000000  \n",
       "employment_years     10.000000     20.000000     30.000000      39.000000  \n",
       "total_debt         6180.736601   9755.531975  15601.100825  300000.000000  \n",
       "default               0.000000      0.000000      0.000000       1.000000  "
      ]
     },
     "metadata": {},
     "output_type": "display_data"
    },
    {
     "name": "stdout",
     "output_type": "stream",
     "text": [
      "\n",
      "Categorical preview:\n",
      "\n",
      "Value counts for state:\n",
      "state\n",
      "S03    638\n",
      "S01    623\n",
      "S04    617\n",
      "S06    616\n",
      "S10    610\n",
      "S08    600\n",
      "S07    590\n",
      "S09    582\n",
      "S05    565\n",
      "S02    559\n",
      "Name: count, dtype: int64\n",
      "\n",
      "Value counts for education_level:\n",
      "education_level\n",
      "Bachelor       2115\n",
      "High School    2103\n",
      "Master         1509\n",
      "PhD             273\n",
      "Name: count, dtype: int64\n",
      "\n",
      "Value counts for home_ownership:\n",
      "home_ownership\n",
      "RENT        2708\n",
      "MORTGAGE    2002\n",
      "OWN         1164\n",
      "OTHER        126\n",
      "Name: count, dtype: int64\n",
      "\n",
      "Value counts for purpose:\n",
      "purpose\n",
      "debt_consolidation    3206\n",
      "home_improvement       892\n",
      "small_business         703\n",
      "car                    599\n",
      "medical                478\n",
      "NaN                    122\n",
      "Name: count, dtype: int64\n",
      "\n",
      "Value counts for applicant_gender:\n",
      "applicant_gender\n",
      "M    3182\n",
      "F    2818\n",
      "Name: count, dtype: int64\n"
     ]
    }
   ],
   "source": [
    "\n",
    "# ====== Load & Initial Audit ======\n",
    "# BEST PRACTICE: Start with .head(), .info(), and .describe() to orient yourself.\n",
    "df = pd.read_csv(RAW_DATA_PATH)\n",
    "display(df.head(5))\n",
    "print(\"\\n.info():\"); print(df.info())\n",
    "print(\"\\nNumeric summary (.describe):\"); display(df.describe().T)\n",
    "print(\"\\nCategorical preview:\")\n",
    "for c in [\"state\",\"education_level\",\"home_ownership\",\"purpose\",\"applicant_gender\"]:\n",
    "    vc = df[c].value_counts(dropna=False).head(10)\n",
    "    print(f\"\\nValue counts for {c}:\\n{vc}\")\n"
   ]
  },
  {
   "cell_type": "code",
   "execution_count": 4,
   "id": "ef496482",
   "metadata": {},
   "outputs": [
    {
     "name": "stdout",
     "output_type": "stream",
     "text": [
      "application_id               int64\n",
      "application_date    datetime64[ns]\n",
      "age                          int64\n",
      "income                     float64\n",
      "loan_amount                float64\n",
      "term_months                  int64\n",
      "interest_rate              float64\n",
      "credit_score               float64\n",
      "employment_years             int64\n",
      "total_debt                 float64\n",
      "state                     category\n",
      "education_level           category\n",
      "home_ownership            category\n",
      "purpose                   category\n",
      "applicant_gender          category\n",
      "dtype: object\n"
     ]
    }
   ],
   "source": [
    "\n",
    "# ====== Enforce Types Early ======\n",
    "# BEST PRACTICE: Correct types avoids silent bugs, speeds operations, and makes EDA truthful.\n",
    "df[\"application_date\"] = pd.to_datetime(df[\"application_date\"], errors=\"coerce\")\n",
    "for c in [\"state\",\"education_level\",\"home_ownership\",\"purpose\",\"applicant_gender\"]:\n",
    "    df[c] = df[c].astype(\"category\")\n",
    "print(df.dtypes.head(15))\n"
   ]
  },
  {
   "cell_type": "code",
   "execution_count": 5,
   "id": "3581455d",
   "metadata": {},
   "outputs": [
    {
     "data": {
      "text/plain": [
       "income              0.051500\n",
       "credit_score        0.027500\n",
       "purpose             0.020333\n",
       "application_id      0.000000\n",
       "application_date    0.000000\n",
       "age                 0.000000\n",
       "loan_amount         0.000000\n",
       "term_months         0.000000\n",
       "interest_rate       0.000000\n",
       "employment_years    0.000000\n",
       "total_debt          0.000000\n",
       "state               0.000000\n",
       "education_level     0.000000\n",
       "home_ownership      0.000000\n",
       "applicant_gender    0.000000\n",
       "dtype: float64"
      ]
     },
     "metadata": {},
     "output_type": "display_data"
    },
    {
     "data": {
      "image/png": "[encoded data removed]",
      "text/plain": [
       "<Figure size 432x288 with 1 Axes>"
      ]
     },
     "metadata": {
      "needs_background": "light"
     },
     "output_type": "display_data"
    },
    {
     "name": "stdout",
     "output_type": "stream",
     "text": [
      "Rows with any missing values: 0.096\n"
     ]
    }
   ],
   "source": [
    "\n",
    "# ====== Missingness Profile ======\n",
    "missing_pct = df.isna().mean().sort_values(ascending=False)\n",
    "display(missing_pct.head(15))\n",
    "\n",
    "fig = plt.figure()\n",
    "missing_pct.plot(kind=\"bar\")\n",
    "plt.ylabel(\"Fraction missing\")\n",
    "plt.title(\"Missingness by column\")\n",
    "plt.tight_layout(); plt.show()\n",
    "\n",
    "# BEST PRACTICE: Quantify rows with any missingness (can guide imputation strategies).\n",
    "rows_with_any_na = df.isna().any(axis=1).mean()\n",
    "print(f\"Rows with any missing values: {rows_with_any_na:.3f}\")\n"
   ]
  },
  {
   "cell_type": "code",
   "execution_count": 6,
   "id": "779fdaf1",
   "metadata": {},
   "outputs": [
    {
     "name": "stdout",
     "output_type": "stream",
     "text": [
      "Duplicate application_id rows: 0\n"
     ]
    }
   ],
   "source": [
    "\n",
    "# ====== Duplicate & Integrity Checks ======\n",
    "# BEST PRACTICE: Duplicates and impossible values corrupt downstream learning.\n",
    "dups = df.duplicated(subset=[\"application_id\"]).sum()\n",
    "print(\"Duplicate application_id rows:\", dups)\n",
    "\n",
    "# Sanity checks (define as assertions in production)\n",
    "assert df[\"age\"].min() >= 0, \"Negative ages detected\"\n",
    "assert df[\"interest_rate\"].between(0,1).mean() > 0.99, \"Interest rate likely not in [0,1]\"\n"
   ]
  },
  {
   "cell_type": "code",
   "execution_count": 7,
   "id": "a1f9edce",
   "metadata": {},
   "outputs": [
    {
     "data": {
      "image/png": "[encoded data removed]",
      "text/plain": [
       "<Figure size 432x288 with 1 Axes>"
      ]
     },
     "metadata": {
      "needs_background": "light"
     },
     "output_type": "display_data"
    },
    {
     "data": {
      "image/png": "[encoded data removed]",
      "text/plain": [
       "<Figure size 432x288 with 1 Axes>"
      ]
     },
     "metadata": {
      "needs_background": "light"
     },
     "output_type": "display_data"
    },
    {
     "data": {
      "image/png": "[encoded data removed]",
      "text/plain": [
       "<Figure size 432x288 with 1 Axes>"
      ]
     },
     "metadata": {
      "needs_background": "light"
     },
     "output_type": "display_data"
    },
    {
     "data": {
      "image/png": "[encoded data removed]",
      "text/plain": [
       "<Figure size 432x288 with 1 Axes>"
      ]
     },
     "metadata": {
      "needs_background": "light"
     },
     "output_type": "display_data"
    },
    {
     "data": {
      "image/png": "[encoded data removed]",
      "text/plain": [
       "<Figure size 432x288 with 1 Axes>"
      ]
     },
     "metadata": {
      "needs_background": "light"
     },
     "output_type": "display_data"
    },
    {
     "data": {
      "image/png": "[encoded data removed]",
      "text/plain": [
       "<Figure size 432x288 with 1 Axes>"
      ]
     },
     "metadata": {
      "needs_background": "light"
     },
     "output_type": "display_data"
    },
    {
     "data": {
      "image/png": "[encoded data removed]",
      "text/plain": [
       "<Figure size 432x288 with 1 Axes>"
      ]
     },
     "metadata": {
      "needs_background": "light"
     },
     "output_type": "display_data"
    },
    {
     "data": {
      "image/png": "[encoded data removed]",
      "text/plain": [
       "<Figure size 432x288 with 1 Axes>"
      ]
     },
     "metadata": {
      "needs_background": "light"
     },
     "output_type": "display_data"
    }
   ],
   "source": [
    "\n",
    "# ====== Univariate Distributions (focused) ======\n",
    "num_cols = [\"income\",\"loan_amount\",\"interest_rate\",\"credit_score\",\"employment_years\",\"total_debt\",\"age\"]\n",
    "for col in num_cols:\n",
    "    fig = plt.figure()\n",
    "    plt.hist(df[col].dropna(), bins=40)\n",
    "    plt.xlabel(col); plt.ylabel(\"Count\"); plt.title(f\"Histogram: {col}\")\n",
    "    plt.grid(True); plt.show()\n",
    "\n",
    "fig = plt.figure()\n",
    "plt.hist(df[\"default\"], bins=3); plt.xticks([0,1]); plt.title(\"Target Distribution (default)\")\n",
    "plt.grid(True); plt.show()\n"
   ]
  },
  {
   "cell_type": "code",
   "execution_count": 8,
   "id": "543e025b",
   "metadata": {},
   "outputs": [
    {
     "data": {
      "image/png": "[encoded data removed]",
      "text/plain": [
       "<Figure size 432x288 with 1 Axes>"
      ]
     },
     "metadata": {
      "needs_background": "light"
     },
     "output_type": "display_data"
    },
    {
     "data": {
      "image/png": "[encoded data removed]",
      "text/plain": [
       "<Figure size 432x288 with 1 Axes>"
      ]
     },
     "metadata": {
      "needs_background": "light"
     },
     "output_type": "display_data"
    },
    {
     "data": {
      "image/png": "[encoded data removed]",
      "text/plain": [
       "<Figure size 432x288 with 1 Axes>"
      ]
     },
     "metadata": {
      "needs_background": "light"
     },
     "output_type": "display_data"
    },
    {
     "data": {
      "image/png": "[encoded data removed]",
      "text/plain": [
       "<Figure size 432x288 with 1 Axes>"
      ]
     },
     "metadata": {
      "needs_background": "light"
     },
     "output_type": "display_data"
    },
    {
     "name": "stdout",
     "output_type": "stream",
     "text": [
      "\n",
      "Default rate by education_level (top 10):\n",
      "education_level\n",
      "High School    0.110319\n",
      "PhD            0.109890\n",
      "Bachelor       0.099764\n",
      "Master         0.096753\n",
      "Name: default, dtype: float64\n",
      "\n",
      "Default rate by home_ownership (top 10):\n",
      "home_ownership\n",
      "MORTGAGE    0.107892\n",
      "RENT        0.102290\n",
      "OWN         0.098797\n",
      "OTHER       0.087302\n",
      "Name: default, dtype: float64\n",
      "\n",
      "Default rate by purpose (top 10):\n",
      "purpose\n",
      "medical               0.123431\n",
      "car                   0.116861\n",
      "small_business        0.115220\n",
      "home_improvement      0.104260\n",
      "debt_consolidation    0.095446\n",
      "Name: default, dtype: float64\n",
      "\n",
      "Default rate by state (top 10):\n",
      "state\n",
      "S06    0.125000\n",
      "S03    0.119122\n",
      "S01    0.117175\n",
      "S02    0.105546\n",
      "S10    0.103279\n",
      "S05    0.100885\n",
      "S04    0.092382\n",
      "S09    0.091065\n",
      "S08    0.090000\n",
      "S07    0.084746\n",
      "Name: default, dtype: float64\n"
     ]
    },
    {
     "name": "stderr",
     "output_type": "stream",
     "text": [
      "/tmp/ipykernel_35374/2620417805.py:11: FutureWarning: The default of observed=False is deprecated and will be changed to True in a future version of pandas. Pass observed=False to retain current behavior or observed=True to adopt the future default and silence this warning.\n",
      "  tab = df.groupby(c)[\"default\"].mean().sort_values(ascending=False).head(10)\n"
     ]
    }
   ],
   "source": [
    "\n",
    "# ====== Bivariate Views: Default vs Key Drivers ======\n",
    "for col in [\"income\",\"loan_amount\",\"interest_rate\",\"credit_score\"]:\n",
    "    fig = plt.figure()\n",
    "    data0 = df.loc[df[\"default\"]==0, col].dropna()\n",
    "    data1 = df.loc[df[\"default\"]==1, col].dropna()\n",
    "    plt.boxplot([data0, data1], labels=[\"Non-default\",\"Default\"], showfliers=False)\n",
    "    plt.ylabel(col); plt.title(f\"{col} vs default\"); plt.grid(True); plt.show()\n",
    "\n",
    "# Category vs default: quick rate table\n",
    "for c in [\"education_level\",\"home_ownership\",\"purpose\",\"state\"]:\n",
    "    tab = df.groupby(c)[\"default\"].mean().sort_values(ascending=False).head(10)\n",
    "    print(f\"\\nDefault rate by {c} (top 10):\\n{tab}\")\n"
   ]
  },
  {
   "cell_type": "code",
   "execution_count": 9,
   "id": "8eb5d0aa",
   "metadata": {},
   "outputs": [
    {
     "data": {
      "image/png": "[encoded data removed]",
      "text/plain": [
       "<Figure size 432x288 with 2 Axes>"
      ]
     },
     "metadata": {
      "needs_background": "light"
     },
     "output_type": "display_data"
    }
   ],
   "source": [
    "\n",
    "# ====== Correlation Heatmap (numerics only) ======\n",
    "num = df.select_dtypes(include=[\"number\"]).drop(columns=[\"application_id\"], errors=\"ignore\")\n",
    "corr = num.corr(numeric_only=True)\n",
    "fig = plt.figure()\n",
    "plt.imshow(corr, interpolation=\"none\")\n",
    "plt.colorbar()\n",
    "plt.xticks(range(corr.shape[1]), corr.columns, rotation=90)\n",
    "plt.yticks(range(corr.shape[0]), corr.index)\n",
    "plt.title(\"Correlation Heatmap (numeric)\")\n",
    "plt.tight_layout(); plt.show()\n",
    "\n",
    "# CAUTION: Correlation ≠ causation. Use to flag multicollinearity candidates.\n"
   ]
  },
  {
   "cell_type": "code",
   "execution_count": 10,
   "id": "17b944a9",
   "metadata": {},
   "outputs": [
    {
     "name": "stdout",
     "output_type": "stream",
     "text": [
      "Approximate |z|>4 counts:\n",
      " loan_amount         43\n",
      "total_debt          34\n",
      "income              27\n",
      "credit_score         1\n",
      "age                  0\n",
      "term_months          0\n",
      "interest_rate        0\n",
      "employment_years     0\n",
      "default              0\n",
      "dtype: int64\n"
     ]
    }
   ],
   "source": [
    "\n",
    "# ====== Outlier Screening (NaN-safe z-scores) ======\n",
    "# BEST PRACTICE: Quantify; do not drop indiscriminately. Consider transformations or robust models.\n",
    "mean = num.mean(); std = num.std(ddof=1).replace(0, np.nan)\n",
    "z = (num - mean)/std\n",
    "outlier_counts = (np.abs(z) > 4).sum(axis=0).astype(int)\n",
    "print(\"Approximate |z|>4 counts:\\n\", outlier_counts.sort_values(ascending=False).head(12))\n"
   ]
  },
  {
   "cell_type": "code",
   "execution_count": 11,
   "id": "a1daab54",
   "metadata": {},
   "outputs": [
    {
     "name": "stdout",
     "output_type": "stream",
     "text": [
      "Leakage candidates: ['application_id']\n"
     ]
    }
   ],
   "source": [
    "\n",
    "# ====== Target Leakage Brainstorm ======\n",
    "# BEST PRACTICE: Identify variables that *should not* be used (post-outcome info).\n",
    "leakage_candidates = [\"application_id\"]  # IDs or fields not causally prior to default\n",
    "print(\"Leakage candidates:\", leakage_candidates)\n"
   ]
  },
  {
   "cell_type": "code",
   "execution_count": 12,
   "id": "085e1425",
   "metadata": {},
   "outputs": [
    {
     "name": "stdout",
     "output_type": "stream",
     "text": [
      "Saved cleaned base dataset to: data/loan_default_clean_base.csv\n"
     ]
    }
   ],
   "source": [
    "\n",
    "# ====== Minimal Cleaning Artifact & EDA Log ======\n",
    "df.to_csv(CLEAN_DATA_PATH, index=False)\n",
    "\n",
    "with open(EDA_LOG_PATH, \"w\", encoding=\"utf-8\") as f:\n",
    "    f.write(\"EDA LOG (Notebook 1 Expanded)\\n\")\n",
    "    f.write(\"- Types enforced (date, categories)\\n\")\n",
    "    f.write(\"- Missingness profiled; no imputation yet (pipelines handle it)\\n\")\n",
    "    f.write(\"- Outliers screened via z-scores; no removal here\\n\")\n",
    "    f.write(f\"- Saved base CSV to: {CLEAN_DATA_PATH}\\n\")\n",
    "\n",
    "print(\"Saved cleaned base dataset to:\", CLEAN_DATA_PATH)\n"
   ]
  },
  {
   "cell_type": "code",
   "execution_count": null,
   "id": "cc294180-c37e-4e66-81f5-e904c21d0fde",
   "metadata": {},
   "outputs": [],
   "source": []
  }
 ],
 "metadata": {
  "kernelspec": {
   "display_name": "Python 3 (ipykernel)",
   "language": "python",
   "name": "python3"
  },
  "language_info": {
   "codemirror_mode": {
    "name": "ipython",
    "version": 3
   },
   "file_extension": ".py",
   "mimetype": "text/x-python",
   "name": "python",
   "nbconvert_exporter": "python",
   "pygments_lexer": "ipython3",
   "version": "3.10.12"
  }
 },
 "nbformat": 4,
 "nbformat_minor": 5
}
