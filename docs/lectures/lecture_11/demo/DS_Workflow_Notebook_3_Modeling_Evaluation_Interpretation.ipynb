{
 "cells": [
  {
   "cell_type": "markdown",
   "id": "4a8308ba",
   "metadata": {},
   "source": [
    "\n",
    "# The End-to-End Data Science Workflow — Notebook 3/4 \n",
    "## Modeling, Evaluation, Thresholding & Interpretation 📈\n",
    "\n",
    "**Goal.** Train and evaluate models with cross-validation, perform basic hyperparameter search,\n",
    "tune decision thresholds for business goals, and interpret model behavior responsibly.\n",
    "\n",
    "**Libraries used (with roles):**\n",
    "- `scikit-learn`: models (logistic regression, random forest), CV, metrics, plots.\n",
    "- `matplotlib`: ROC/PR/CM plots, importance bars.\n",
    "- `joblib`: persist fitted models.\n",
    "- `numpy`, `pandas`: evaluation tables, simple reporting.\n"
   ]
  },
  {
   "cell_type": "code",
   "execution_count": 1,
   "id": "60e71097",
   "metadata": {},
   "outputs": [],
   "source": [
    "\n",
    "# ====== Imports, Paths, Seed ======\n",
    "import numpy as np, pandas as pd, matplotlib.pyplot as plt\n",
    "from pathlib import Path\n",
    "import joblib\n",
    "\n",
    "from sklearn.model_selection import train_test_split, StratifiedKFold, cross_validate, RandomizedSearchCV\n",
    "from sklearn.metrics import (\n",
    "    accuracy_score, precision_score, recall_score, f1_score, roc_auc_score,\n",
    "    RocCurveDisplay, PrecisionRecallDisplay, ConfusionMatrixDisplay, classification_report\n",
    ")\n",
    "from sklearn.linear_model import LogisticRegression\n",
    "from sklearn.ensemble import RandomForestClassifier\n",
    "from sklearn.pipeline import Pipeline\n",
    "from sklearn.compose import ColumnTransformer\n",
    "from sklearn.preprocessing import OneHotEncoder, OrdinalEncoder, StandardScaler\n",
    "from sklearn.impute import SimpleImputer\n",
    "from sklearn.base import BaseEstimator, TransformerMixin\n",
    "from sklearn.inspection import permutation_importance\n",
    "\n",
    "RANDOM_SEED = 42; np.random.seed(RANDOM_SEED)\n",
    "DATA_DIR = Path(\"data\"); ARTIFACTS_DIR = Path(\"artifacts\")\n",
    "DATA_DIR.mkdir(exist_ok=True); ARTIFACTS_DIR.mkdir(exist_ok=True)\n",
    "\n",
    "CLEAN_DATA_PATH = DATA_DIR / \"loan_default_clean_base.csv\"\n",
    "FINAL_MODEL_PATH = ARTIFACTS_DIR / \"final_model.joblib\"\n",
    "MODEL_CARD_PATH = ARTIFACTS_DIR / \"model_card.txt\"\n",
    "\n",
    "plt.rcParams[\"figure.figsize\"] = (7, 4.5)\n"
   ]
  },
  {
   "cell_type": "code",
   "execution_count": 2,
   "id": "e2799d13",
   "metadata": {},
   "outputs": [
    {
     "name": "stdout",
     "output_type": "stream",
     "text": [
      "Train: (4800, 15)  Test: (1200, 15)  Pos rate: 0.103\n"
     ]
    }
   ],
   "source": [
    "\n",
    "# ====== Load Data & Rebuild Preprocessor (self-contained) ======\n",
    "df = pd.read_csv(CLEAN_DATA_PATH, parse_dates=[\"application_date\"])\n",
    "y = df[\"default\"].astype(int); X = df.drop(columns=[\"default\"])\n",
    "X_train, X_test, y_train, y_test = train_test_split(X, y, test_size=0.2, random_state=RANDOM_SEED, stratify=y)\n",
    "\n",
    "class FeatureGenerator(BaseEstimator, TransformerMixin):\n",
    "    def __init__(self, clip_dti=10.0):\n",
    "        self.clip_dti = clip_dti\n",
    "    def fit(self, X, y=None):\n",
    "        return self\n",
    "    def transform(self, X):\n",
    "        X_ = X.copy()\n",
    "        X_[\"dti\"] = (X_[\"total_debt\"]/np.maximum(X_[\"income\"],1.0)).replace([np.inf,-np.inf], np.nan).clip(0, self.clip_dti)\n",
    "        X_[\"app_month\"] = X_[\"application_date\"].dt.month\n",
    "        X_[\"app_dayofweek\"] = X_[\"application_date\"].dt.dayofweek\n",
    "        X_[\"app_year\"] = X_[\"application_date\"].dt.year\n",
    "        X_[\"rate_term_interaction\"] = X_[\"interest_rate\"] * X_[\"term_months\"]\n",
    "        X_[\"amount_income_ratio\"] = X_[\"loan_amount\"] / np.maximum(X_[\"income\"], 1.0)\n",
    "        return X_\n",
    "\n",
    "ordinal_edu = [\"High School\",\"Bachelor\",\"Master\",\"PhD\"]\n",
    "numeric_features = [\"age\",\"income\",\"loan_amount\",\"term_months\",\"interest_rate\",\"credit_score\",\"employment_years\",\"total_debt\",\"dti\",\"app_month\",\"app_dayofweek\",\"app_year\",\"rate_term_interaction\",\"amount_income_ratio\"]\n",
    "categorical_nominal = [\"state\",\"home_ownership\",\"purpose\",\"applicant_gender\"]\n",
    "categorical_ordinal = [\"education_level\"]\n",
    "\n",
    "num_pipe = Pipeline([(\"imp\", SimpleImputer(strategy=\"median\")), (\"sc\", StandardScaler())])\n",
    "ord_pipe = Pipeline([(\"imp\", SimpleImputer(strategy=\"most_frequent\")), (\"ord\", OrdinalEncoder(categories=[ordinal_edu], dtype=float))])\n",
    "nom_pipe = Pipeline([(\"imp\", SimpleImputer(strategy=\"most_frequent\")), (\"ohe\", OneHotEncoder(handle_unknown=\"ignore\", sparse_output=False))])\n",
    "\n",
    "pre = ColumnTransformer([(\"num\", num_pipe, numeric_features), (\"ord\", ord_pipe, categorical_ordinal), (\"nom\", nom_pipe, categorical_nominal)], remainder=\"drop\")\n",
    "preprocess = Pipeline([(\"feat\", FeatureGenerator()), (\"pre\", pre)])\n",
    "\n",
    "print(\"Train:\", X_train.shape, \" Test:\", X_test.shape, \" Pos rate:\", y_train.mean().round(3))\n"
   ]
  },
  {
   "cell_type": "code",
   "execution_count": 3,
   "id": "4c9ef77d",
   "metadata": {},
   "outputs": [
    {
     "name": "stdout",
     "output_type": "stream",
     "text": [
      "Logistic Regression CV (mean ± std):\n",
      "   acc: 0.898 ± 0.001\n",
      "  prec: 0.617 ± 0.100\n",
      "   rec: 0.018 ± 0.008\n",
      "    f1: 0.035 ± 0.014\n",
      "   roc: 0.613 ± 0.047\n"
     ]
    }
   ],
   "source": [
    "\n",
    "# ====== Baseline: Logistic Regression (CV) ======\n",
    "cv = StratifiedKFold(n_splits=5, shuffle=True, random_state=RANDOM_SEED)\n",
    "log_reg = Pipeline([(\"preprocess\", preprocess), (\"clf\", LogisticRegression(max_iter=400, C=1.0))])\n",
    "scoring = {\"acc\":\"accuracy\",\"prec\":\"precision\",\"rec\":\"recall\",\"f1\":\"f1\",\"roc\":\"roc_auc\"}\n",
    "cv_res_log = cross_validate(log_reg, X_train, y_train, cv=cv, scoring=scoring)\n",
    "print(\"Logistic Regression CV (mean ± std):\")\n",
    "for k in scoring:\n",
    "    print(f\"  {k:>4}: {cv_res_log['test_'+k].mean():.3f} ± {cv_res_log['test_'+k].std():.3f}\")\n"
   ]
  },
  {
   "cell_type": "code",
   "execution_count": 4,
   "id": "b62612fc",
   "metadata": {},
   "outputs": [
    {
     "name": "stdout",
     "output_type": "stream",
     "text": [
      "Best RF params: {'clf__n_estimators': 800, 'clf__min_samples_split': 10, 'clf__min_samples_leaf': 1, 'clf__max_features': 'log2', 'clf__max_depth': 8}\n",
      "Best CV ROC AUC: 0.6170743439036122\n"
     ]
    }
   ],
   "source": [
    "\n",
    "# ====== Flexible Model: Random Forest (CV + Randomized Search) ======\n",
    "rf = Pipeline([(\"preprocess\", preprocess), (\"clf\", RandomForestClassifier(random_state=RANDOM_SEED))])\n",
    "param_dist = {\n",
    "    \"clf__n_estimators\": [300, 500, 800],\n",
    "    \"clf__max_depth\": [None, 8, 12, 18],\n",
    "    \"clf__min_samples_split\": [2, 5, 10],\n",
    "    \"clf__min_samples_leaf\": [1, 2, 4],\n",
    "    \"clf__max_features\": [\"sqrt\", \"log2\", None]\n",
    "}\n",
    "search = RandomizedSearchCV(rf, param_distributions=param_dist, n_iter=18, scoring=\"roc_auc\", cv=cv, random_state=RANDOM_SEED, verbose=0)\n",
    "search.fit(X_train, y_train)\n",
    "best_model = search.best_estimator_\n",
    "print(\"Best RF params:\", search.best_params_)\n",
    "print(\"Best CV ROC AUC:\", search.best_score_)\n"
   ]
  },
  {
   "cell_type": "code",
   "execution_count": 5,
   "id": "4088809a",
   "metadata": {},
   "outputs": [
    {
     "name": "stdout",
     "output_type": "stream",
     "text": [
      "Default-threshold metrics:\n",
      " thr          0.500\n",
      "accuracy     0.897\n",
      "precision    0.000\n",
      "recall       0.000\n",
      "f1           0.000\n",
      "roc_auc      0.653\n",
      "dtype: float64\n"
     ]
    },
    {
     "name": "stderr",
     "output_type": "stream",
     "text": [
      "/home/simon/.local/lib/python3.10/site-packages/sklearn/metrics/_classification.py:1565: UndefinedMetricWarning: Precision is ill-defined and being set to 0.0 due to no predicted samples. Use `zero_division` parameter to control this behavior.\n",
      "  _warn_prf(average, modifier, f\"{metric.capitalize()} is\", len(result))\n"
     ]
    },
    {
     "data": {
      "text/plain": [
       "<Figure size 432x288 with 0 Axes>"
      ]
     },
     "metadata": {},
     "output_type": "display_data"
    },
    {
     "data": {
      "image/png": "[encoded data removed]",
      "text/plain": [
       "<Figure size 432x288 with 1 Axes>"
      ]
     },
     "metadata": {
      "needs_background": "light"
     },
     "output_type": "display_data"
    },
    {
     "data": {
      "text/plain": [
       "<Figure size 432x288 with 0 Axes>"
      ]
     },
     "metadata": {},
     "output_type": "display_data"
    },
    {
     "data": {
      "image/png": "[encoded data removed]",
      "text/plain": [
       "<Figure size 432x288 with 1 Axes>"
      ]
     },
     "metadata": {
      "needs_background": "light"
     },
     "output_type": "display_data"
    },
    {
     "data": {
      "text/plain": [
       "<Figure size 432x288 with 0 Axes>"
      ]
     },
     "metadata": {},
     "output_type": "display_data"
    },
    {
     "data": {
      "image/png": "[encoded data removed]",
      "text/plain": [
       "<Figure size 432x288 with 2 Axes>"
      ]
     },
     "metadata": {
      "needs_background": "light"
     },
     "output_type": "display_data"
    }
   ],
   "source": [
    "\n",
    "# ====== Test Set Evaluation (default 0.5 threshold) ======\n",
    "y_proba = best_model.predict_proba(X_test)[:,1]\n",
    "y_pred = (y_proba >= 0.5).astype(int)\n",
    "\n",
    "def metrics_table(y_true, y_prob, thr):\n",
    "    yp = (y_prob >= thr).astype(int)\n",
    "    return pd.Series({\n",
    "        \"thr\": thr,\n",
    "        \"accuracy\": accuracy_score(y_true, yp),\n",
    "        \"precision\": precision_score(y_true, yp),\n",
    "        \"recall\": recall_score(y_true, yp),\n",
    "        \"f1\": f1_score(y_true, yp),\n",
    "        \"roc_auc\": roc_auc_score(y_true, y_prob)\n",
    "    })\n",
    "\n",
    "print(\"Default-threshold metrics:\\n\", metrics_table(y_test, y_proba, 0.5).round(3))\n",
    "\n",
    "# Standard plots\n",
    "fig = plt.figure(); RocCurveDisplay.from_predictions(y_test, y_proba); plt.title(\"ROC (test)\"); plt.grid(True); plt.show()\n",
    "fig = plt.figure(); PrecisionRecallDisplay.from_predictions(y_test, y_proba); plt.title(\"PR (test)\"); plt.grid(True); plt.show()\n",
    "fig = plt.figure(); ConfusionMatrixDisplay.from_predictions(y_test, y_pred); plt.title(\"Confusion Matrix (test)\"); plt.show()\n"
   ]
  },
  {
   "cell_type": "code",
   "execution_count": 6,
   "id": "407e894c",
   "metadata": {},
   "outputs": [
    {
     "name": "stderr",
     "output_type": "stream",
     "text": [
      "/home/simon/.local/lib/python3.10/site-packages/sklearn/metrics/_classification.py:1565: UndefinedMetricWarning: Precision is ill-defined and being set to 0.0 due to no predicted samples. Use `zero_division` parameter to control this behavior.\n",
      "  _warn_prf(average, modifier, f\"{metric.capitalize()} is\", len(result))\n",
      "/home/simon/.local/lib/python3.10/site-packages/sklearn/metrics/_classification.py:1565: UndefinedMetricWarning: Precision is ill-defined and being set to 0.0 due to no predicted samples. Use `zero_division` parameter to control this behavior.\n",
      "  _warn_prf(average, modifier, f\"{metric.capitalize()} is\", len(result))\n",
      "/home/simon/.local/lib/python3.10/site-packages/sklearn/metrics/_classification.py:1565: UndefinedMetricWarning: Precision is ill-defined and being set to 0.0 due to no predicted samples. Use `zero_division` parameter to control this behavior.\n",
      "  _warn_prf(average, modifier, f\"{metric.capitalize()} is\", len(result))\n",
      "/home/simon/.local/lib/python3.10/site-packages/sklearn/metrics/_classification.py:1565: UndefinedMetricWarning: Precision is ill-defined and being set to 0.0 due to no predicted samples. Use `zero_division` parameter to control this behavior.\n",
      "  _warn_prf(average, modifier, f\"{metric.capitalize()} is\", len(result))\n",
      "/home/simon/.local/lib/python3.10/site-packages/sklearn/metrics/_classification.py:1565: UndefinedMetricWarning: Precision is ill-defined and being set to 0.0 due to no predicted samples. Use `zero_division` parameter to control this behavior.\n",
      "  _warn_prf(average, modifier, f\"{metric.capitalize()} is\", len(result))\n",
      "/home/simon/.local/lib/python3.10/site-packages/sklearn/metrics/_classification.py:1565: UndefinedMetricWarning: Precision is ill-defined and being set to 0.0 due to no predicted samples. Use `zero_division` parameter to control this behavior.\n",
      "  _warn_prf(average, modifier, f\"{metric.capitalize()} is\", len(result))\n",
      "/home/simon/.local/lib/python3.10/site-packages/sklearn/metrics/_classification.py:1565: UndefinedMetricWarning: Precision is ill-defined and being set to 0.0 due to no predicted samples. Use `zero_division` parameter to control this behavior.\n",
      "  _warn_prf(average, modifier, f\"{metric.capitalize()} is\", len(result))\n",
      "/home/simon/.local/lib/python3.10/site-packages/sklearn/metrics/_classification.py:1565: UndefinedMetricWarning: Precision is ill-defined and being set to 0.0 due to no predicted samples. Use `zero_division` parameter to control this behavior.\n",
      "  _warn_prf(average, modifier, f\"{metric.capitalize()} is\", len(result))\n",
      "/home/simon/.local/lib/python3.10/site-packages/sklearn/metrics/_classification.py:1565: UndefinedMetricWarning: Precision is ill-defined and being set to 0.0 due to no predicted samples. Use `zero_division` parameter to control this behavior.\n",
      "  _warn_prf(average, modifier, f\"{metric.capitalize()} is\", len(result))\n"
     ]
    },
    {
     "data": {
      "text/html": [
       "<div>\n",
       "<style scoped>\n",
       "    .dataframe tbody tr th:only-of-type {\n",
       "        vertical-align: middle;\n",
       "    }\n",
       "\n",
       "    .dataframe tbody tr th {\n",
       "        vertical-align: top;\n",
       "    }\n",
       "\n",
       "    .dataframe thead th {\n",
       "        text-align: right;\n",
       "    }\n",
       "</style>\n",
       "<table border=\"1\" class=\"dataframe\">\n",
       "  <thead>\n",
       "    <tr style=\"text-align: right;\">\n",
       "      <th></th>\n",
       "      <th>accuracy</th>\n",
       "      <th>precision</th>\n",
       "      <th>recall</th>\n",
       "      <th>f1</th>\n",
       "      <th>roc_auc</th>\n",
       "    </tr>\n",
       "    <tr>\n",
       "      <th>thr</th>\n",
       "      <th></th>\n",
       "      <th></th>\n",
       "      <th></th>\n",
       "      <th></th>\n",
       "      <th></th>\n",
       "    </tr>\n",
       "  </thead>\n",
       "  <tbody>\n",
       "    <tr>\n",
       "      <th>0.15</th>\n",
       "      <td>0.838</td>\n",
       "      <td>0.245</td>\n",
       "      <td>0.274</td>\n",
       "      <td>0.259</td>\n",
       "      <td>0.653</td>\n",
       "    </tr>\n",
       "    <tr>\n",
       "      <th>0.10</th>\n",
       "      <td>0.622</td>\n",
       "      <td>0.152</td>\n",
       "      <td>0.581</td>\n",
       "      <td>0.241</td>\n",
       "      <td>0.653</td>\n",
       "    </tr>\n",
       "    <tr>\n",
       "      <th>0.20</th>\n",
       "      <td>0.876</td>\n",
       "      <td>0.295</td>\n",
       "      <td>0.145</td>\n",
       "      <td>0.195</td>\n",
       "      <td>0.653</td>\n",
       "    </tr>\n",
       "    <tr>\n",
       "      <th>0.25</th>\n",
       "      <td>0.885</td>\n",
       "      <td>0.250</td>\n",
       "      <td>0.056</td>\n",
       "      <td>0.092</td>\n",
       "      <td>0.653</td>\n",
       "    </tr>\n",
       "    <tr>\n",
       "      <th>0.30</th>\n",
       "      <td>0.893</td>\n",
       "      <td>0.300</td>\n",
       "      <td>0.024</td>\n",
       "      <td>0.045</td>\n",
       "      <td>0.653</td>\n",
       "    </tr>\n",
       "  </tbody>\n",
       "</table>\n",
       "</div>"
      ],
      "text/plain": [
       "      accuracy  precision  recall     f1  roc_auc\n",
       "thr                                              \n",
       "0.15     0.838      0.245   0.274  0.259    0.653\n",
       "0.10     0.622      0.152   0.581  0.241    0.653\n",
       "0.20     0.876      0.295   0.145  0.195    0.653\n",
       "0.25     0.885      0.250   0.056  0.092    0.653\n",
       "0.30     0.893      0.300   0.024  0.045    0.653"
      ]
     },
     "metadata": {},
     "output_type": "display_data"
    },
    {
     "name": "stdout",
     "output_type": "stream",
     "text": [
      "Best threshold by F1: 0.15000000000000002\n"
     ]
    }
   ],
   "source": [
    "\n",
    "# ====== Threshold Tuning by F1 (illustration) ======\n",
    "ths = np.linspace(0.1, 0.9, 17)\n",
    "rows = [metrics_table(y_test, y_proba, t) for t in ths]\n",
    "mtab = pd.DataFrame(rows).set_index(\"thr\")\n",
    "display(mtab.round(3).sort_values(\"f1\", ascending=False).head(5))\n",
    "best_thr = mtab[\"f1\"].idxmax()\n",
    "print(\"Best threshold by F1:\", best_thr)\n"
   ]
  },
  {
   "cell_type": "code",
   "execution_count": 7,
   "id": "f8ca02bd",
   "metadata": {},
   "outputs": [
    {
     "name": "stdout",
     "output_type": "stream",
     "text": [
      "TPR (gender=F) at F1-opt threshold: 0.322\n",
      "TPR (gender=M) at F1-opt threshold: 0.231\n"
     ]
    }
   ],
   "source": [
    "\n",
    "# ====== Fairness sanity check (group-wise TPR by gender) ======\n",
    "df_test = X_test.copy()\n",
    "df_test[\"default\"] = y_test.values\n",
    "df_test[\"proba\"] = y_proba\n",
    "df_test[\"pred_f1opt\"] = (y_proba >= best_thr).astype(int)\n",
    "\n",
    "def tpr_for(df, group_label, thr_col):\n",
    "    sub = df[df[\"applicant_gender\"] == group_label]\n",
    "    tp = ((sub[\"default\"] == 1) & (sub[thr_col] == 1)).sum()\n",
    "    fn = ((sub[\"default\"] == 1) & (sub[thr_col] == 0)).sum()\n",
    "    return tp / max(tp + fn, 1)\n",
    "\n",
    "for g in [\"F\",\"M\"]:\n",
    "    print(f\"TPR (gender={g}) at F1-opt threshold: {tpr_for(df_test, g, 'pred_f1opt'):.3f}\")\n"
   ]
  },
  {
   "cell_type": "code",
   "execution_count": null,
   "id": "6a721b29",
   "metadata": {},
   "outputs": [
    {
     "data": {
      "image/png": "[encoded data removed]",
      "text/plain": [
       "<Figure size 432x288 with 1 Axes>"
      ]
     },
     "metadata": {
      "needs_background": "light"
     },
     "output_type": "display_data"
    }
   ],
   "source": [
    "# ====== Interpretation: Feature Importances & Permutation Importance ======\n",
    "# We compute two views consistently in transformed feature space:\n",
    "# (1) Random Forest Gini importances on transformed features.\n",
    "# (2) Permutation importance on the RF using the transformed test matrix,\n",
    "#     so that the importances align with the transformed feature names.\n",
    "\n",
    "# Compose transformed feature names\n",
    "pre = best_model.named_steps[\"preprocess\"].named_steps[\"pre\"]\n",
    "ohe = pre.named_transformers_[\"nom\"].named_steps[\"ohe\"]\n",
    "ohe_names = []\n",
    "for col, cats in zip([\"state\",\"home_ownership\",\"purpose\",\"applicant_gender\"], ohe.categories_):\n",
    "    for c in cats:\n",
    "        ohe_names.append(f\"{col}__{c}\")\n",
    "feature_names = [\"age\",\"income\",\"loan_amount\",\"term_months\",\"interest_rate\",\"credit_score\",\n",
    "                 \"employment_years\",\"total_debt\",\"dti\",\"app_month\",\"app_dayofweek\",\n",
    "                 \"app_year\",\"rate_term_interaction\",\"amount_income_ratio\"] \\\n",
    "                + [\"education_level\"] + ohe_names\n",
    "\n",
    "# Transform X_test exactly as in the pipeline\n",
    "X_test_trans = best_model.named_steps[\"preprocess\"].transform(X_test)\n",
    "\n",
    "# Gini importances\n",
    "rf_clf = best_model.named_steps[\"clf\"]\n",
    "imp = rf_clf.feature_importances_\n",
    "order = np.argsort(imp)[::-1]\n",
    "\n",
    "top_k = min(20, len(feature_names))\n",
    "fig = plt.figure()\n",
    "plt.bar(range(top_k), imp[order][:top_k])\n",
    "plt.xticks(range(top_k), [feature_names[i] for i in order[:top_k]], rotation=90)\n",
    "plt.ylabel(\"Gini importance\"); plt.title(\"Top Feature Importances\"); plt.tight_layout(); plt.show()\n",
    "\n",
    "# Permutation importance on transformed features (aligns lengths and labels)\n",
    "perm = permutation_importance(rf_clf, X_test_trans, y_test, n_repeats=5,\n",
    "                              random_state=RANDOM_SEED, scoring=\"roc_auc\")\n",
    "porder = np.argsort(perm.importances_mean)[::-1]\n",
    "\n",
    "fig = plt.figure()\n",
    "plt.bar(range(top_k), perm.importances_mean[porder][:top_k])\n",
    "plt.xticks(range(top_k), [feature_names[i] for i in porder[:top_k]], rotation=90)\n",
    "plt.ylabel(\"Permutation ΔAUC\"); plt.title(\"Top Permutation Importances\")\n",
    "plt.tight_layout(); plt.show()\n"
   ]
  },
  {
   "cell_type": "code",
   "execution_count": null,
   "id": "df9607a4",
   "metadata": {},
   "outputs": [],
   "source": [
    "\n",
    "# ====== Persist Final Model & Minimal Model Card ======\n",
    "joblib.dump(best_model, FINAL_MODEL_PATH)\n",
    "with open(MODEL_CARD_PATH, \"w\", encoding=\"utf-8\") as f:\n",
    "    f.write(\"MODEL CARD (Summary)\\n\")\n",
    "    f.write(\"- Problem: loan default prediction (synthetic)\\n\")\n",
    "    f.write(\"- Data: 2023–2024 synthetic applications; numeric+categorical features\\n\")\n",
    "    f.write(\"- Preprocessing: FeatureGenerator + ColumnTransformer (median impute, standardize, OHE, ordinal enc.)\\n\")\n",
    "    f.write(\"- Model: RandomForest (RandomizedSearchCV), evaluated via 5-fold CV on train; final metrics on held-out test\\n\")\n",
    "    f.write(\"- Metrics: ROC-AUC primary; also precision, recall, F1; threshold tuned for F1\\n\")\n",
    "    f.write(\"- Fairness sanity: TPR by gender reported\\n\")\n",
    "    f.write(\"- Limits: synthetic data; not for production use\\n\")\n",
    "print(\"Saved final model:\", FINAL_MODEL_PATH)\n"
   ]
  },
  {
   "cell_type": "code",
   "execution_count": null,
   "id": "035b1562-1f8e-46ce-9818-99e33a3c22f2",
   "metadata": {},
   "outputs": [],
   "source": []
  }
 ],
 "metadata": {
  "kernelspec": {
   "display_name": "Python 3 (ipykernel)",
   "language": "python",
   "name": "python3"
  },
  "language_info": {
   "codemirror_mode": {
    "name": "ipython",
    "version": 3
   },
   "file_extension": ".py",
   "mimetype": "text/x-python",
   "name": "python",
   "nbconvert_exporter": "python",
   "pygments_lexer": "ipython3",
   "version": "3.10.12"
  }
 },
 "nbformat": 4,
 "nbformat_minor": 5
}
