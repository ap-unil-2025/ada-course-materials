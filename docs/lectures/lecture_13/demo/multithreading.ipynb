{
 "cells": [
  {
   "cell_type": "markdown",
   "id": "a11cf695-b883-4b8e-84da-8eb0ee50b849",
   "metadata": {},
   "source": [
    "# Multithreading in Python"
   ]
  },
  {
   "cell_type": "markdown",
   "id": "85bf47e6-720e-4100-b202-1e957a868f42",
   "metadata": {},
   "source": [
    "Multithreading allows multiple threads to execute concurrently within a single process, enabling better utilization of computing resources on multi-core processors. Unlike multiprocessing, threads share the same memory space, which makes data sharing between threads faster and more efficient. However, this also introduces challenges such as synchronization and data race issues.\n"
   ]
  },
  {
   "cell_type": "code",
   "execution_count": 1,
   "id": "4f6d9da4-bdd3-44a8-b1bc-580b518aa14d",
   "metadata": {},
   "outputs": [
    {
     "name": "stdout",
     "output_type": "stream",
     "text": [
      "Multithreading allows multiple threads to execute concurrently, sharing the same process space.\n"
     ]
    }
   ],
   "source": [
    "# Importing the threading module\n",
    "import threading\n",
    "import time\n",
    "\n",
    "# Introduction\n",
    "print(\"Multithreading allows multiple threads to execute concurrently, sharing the same process space.\")\n"
   ]
  },
  {
   "cell_type": "markdown",
   "id": "a8544363-646e-42e9-a1cf-b6137fd436ab",
   "metadata": {},
   "source": [
    "## Creating and Starting Threads\n",
    "\n",
    "### Code Explanation:\n",
    "\n",
    "This example demonstrates how to create and start threads in Python using the `threading` module. We define a function called `print_numbers` that prints numbers from 0 to 4. Each number is printed after a delay of one second. We then create two threads, `thread1` and `thread2`, both of which execute this function concurrently.\n",
    "\n",
    "- **Threading Module:** Utilized for creating and managing threads.\n",
    "- **Thread Creation:** Threads are created by instantiating `Thread` from the `threading` module.\n",
    "- **Starting Threads:** Threads are started using the `start()` method.\n",
    "- **Joining Threads:** The `join()` method ensures that the main program waits for all threads to complete their tasks.\n",
    "\n"
   ]
  },
  {
   "cell_type": "code",
   "execution_count": 2,
   "id": "9256d3f1-9874-42ad-ace0-4d79bd06c781",
   "metadata": {},
   "outputs": [
    {
     "name": "stdout",
     "output_type": "stream",
     "text": [
      "Thread Thread-1 prints: 0\n",
      "Thread Thread-2 prints: 0\n",
      "Thread Thread-1 prints: 1\n",
      "Thread Thread-2 prints: 1\n",
      "Thread Thread-1 prints: 2\n",
      "Thread Thread-2 prints: 2\n",
      "Thread Thread-1 prints: 3\n",
      "Thread Thread-2 prints: 3\n",
      "Thread Thread-1 prints: 4\n",
      "Thread Thread-2 prints: 4\n",
      "Both threads have completed their execution.\n"
     ]
    }
   ],
   "source": [
    "# Define a function for the thread\n",
    "def print_numbers():\n",
    "    \"\"\"Function to print numbers from 0 to 4, with a delay of 1 second between each.\"\"\"\n",
    "    for i in range(5):\n",
    "        time.sleep(1)\n",
    "        print(f\"Thread {threading.current_thread().name} prints: {i}\")\n",
    "\n",
    "# Creating threads\n",
    "thread1 = threading.Thread(target=print_numbers, name='Thread-1')\n",
    "thread2 = threading.Thread(target=print_numbers, name='Thread-2')\n",
    "\n",
    "# Starting threads\n",
    "thread1.start()\n",
    "thread2.start()\n",
    "\n",
    "# Waiting for threads to complete\n",
    "thread1.join()\n",
    "thread2.join()\n",
    "\n",
    "print(\"Both threads have completed their execution.\")\n"
   ]
  },
  {
   "cell_type": "markdown",
   "id": "1ab0789b-dfab-4629-9b21-ee7ea9c0a86c",
   "metadata": {},
   "source": [
    "## Thread Synchronization\n",
    "\n",
    "### Code Explanation:\n",
    "\n",
    "This example illustrates how to use a lock to prevent data races when multiple threads modify shared data. A shared list `[0]` is incremented by multiple threads safely by ensuring that only one thread at a time can modify the list.\n",
    "\n",
    "- **Lock Acquisition:** Before a thread modifies the shared data, it acquires a lock.\n",
    "- **Lock Release:** After the modification, the lock is released.\n",
    "- **Safe Data Modification:** The lock ensures that modifications are done safely without interference from other threads.\n",
    "\n"
   ]
  },
  {
   "cell_type": "code",
   "execution_count": 3,
   "id": "eae24555-e686-494f-bb3e-390b490dcf5d",
   "metadata": {},
   "outputs": [
    {
     "name": "stdout",
     "output_type": "stream",
     "text": [
      "Final value after all threads are done: 10\n"
     ]
    }
   ],
   "source": [
    "# Synchronization using Lock\n",
    "lock = threading.Lock()\n",
    "\n",
    "def add_one(shared_list):\n",
    "    \"\"\"Function to safely increment the first item of a list by 1.\"\"\"\n",
    "    lock.acquire()\n",
    "    try:\n",
    "        value = shared_list[0]\n",
    "        time.sleep(1)  # Simulating some processing time\n",
    "        shared_list[0] = value + 1\n",
    "    finally:\n",
    "        lock.release()\n",
    "\n",
    "shared_list = [0]\n",
    "threads = [threading.Thread(target=add_one, args=(shared_list,)) for _ in range(10)]\n",
    "\n",
    "for thread in threads:\n",
    "    thread.start()\n",
    "\n",
    "for thread in threads:\n",
    "    thread.join()\n",
    "\n",
    "print(\"Final value after all threads are done:\", shared_list[0])\n"
   ]
  },
  {
   "cell_type": "markdown",
   "id": "a8a1e1a8-e8ff-4572-b40e-e9294d99cb0b",
   "metadata": {},
   "source": [
    "## Thread Pool Executor\n",
    "\n",
    "### Code Explanation:\n",
    "\n",
    "`ThreadPoolExecutor` is used to manage a pool of threads, each executing tasks concurrently. This example shows how to create a `ThreadPoolExecutor` with a maximum of three workers that execute a function called `task`, which simply sleeps for a number of seconds indicated by the input.\n",
    "\n",
    "- **ThreadPoolExecutor:** A higher-level means of managing threads that simplifies task submission and management.\n",
    "- **Concurrency Management:** Allows setting the number of concurrent threads.\n",
    "- **Task Execution:** Managed by the executor, which handles thread creation, execution, and termination automatically.\n",
    "\n"
   ]
  },
  {
   "cell_type": "code",
   "execution_count": 5,
   "id": "a1219a1c-8873-4dce-b54b-8232599b7439",
   "metadata": {},
   "outputs": [
    {
     "name": "stdout",
     "output_type": "stream",
     "text": [
      "Executing Task 2Executing Task 3\n",
      "\n",
      "Executing Task 1\n",
      "Task 1 done\n",
      "Task 2 done\n",
      "Task 3 done\n",
      "All tasks completed.\n"
     ]
    }
   ],
   "source": [
    "from concurrent.futures import ThreadPoolExecutor\n",
    "\n",
    "def task(n):\n",
    "    \"\"\"Function that simulates a task by sleeping for n seconds.\"\"\"\n",
    "    print(f\"Executing Task {n}\")\n",
    "    time.sleep(n)\n",
    "    print(f\"Task {n} done\")\n",
    "\n",
    "# Using ThreadPoolExecutor to manage a pool of threads\n",
    "with ThreadPoolExecutor(max_workers=3) as executor:\n",
    "    results = executor.map(task, [2, 3, 1])\n",
    "\n",
    "print(\"All tasks completed.\")\n"
   ]
  },
  {
   "cell_type": "markdown",
   "id": "6b30ff1c-00e3-48a6-b158-1aa73c78dbd8",
   "metadata": {},
   "source": [
    "## Deamon threads\n",
    "\n",
    "### Code Explanation:\n",
    "\n",
    "Demonstrates the use of daemon threads in Python. A daemon thread runs in the background and exits when the main program exits. This example features a background task that continuously prints \"Heartbeat...\" every two seconds.\n",
    "\n",
    "- **Daemon Thread:** A thread that runs in the background and does not prevent the main program from exiting.\n",
    "- **Background Task:** Ideal for tasks like logging, monitoring, or other periodic tasks that should run as long as the program runs but not prevent the program from closing.\n",
    "\n"
   ]
  },
  {
   "cell_type": "code",
   "execution_count": 5,
   "id": "a72e5759-67bf-4023-8f92-b9eb9370fb1b",
   "metadata": {},
   "outputs": [
    {
     "name": "stdout",
     "output_type": "stream",
     "text": [
      "Heartbeat...\n",
      "Main program iteration 0\n",
      "Main program iteration 1\n",
      "Heartbeat...\n",
      "Main program iteration 2\n",
      "Main program iteration 3\n",
      "Heartbeat...\n",
      "Main program iteration 4\n",
      "Main program complete. Exiting.\n",
      "Heartbeat...\n",
      "Heartbeat...\n"
     ]
    }
   ],
   "source": [
    "def background_task():\n",
    "    \"\"\"Background task that runs until the main program is active.\"\"\"\n",
    "    while True:\n",
    "        print(\"Heartbeat...\")\n",
    "        time.sleep(2)\n",
    "\n",
    "# Creating a daemon thread\n",
    "daemon_thread = threading.Thread(target=background_task)\n",
    "daemon_thread.daemon = True\n",
    "daemon_thread.start()\n",
    "\n",
    "# Main program running some task\n",
    "for i in range(5):\n",
    "    print(f\"Main program iteration {i}\")\n",
    "    time.sleep(1)\n",
    "\n",
    "print(\"Main program complete. Exiting.\")\n"
   ]
  },
  {
   "cell_type": "markdown",
   "id": "480977d3-bfee-490b-9e24-158e1c9d2978",
   "metadata": {},
   "source": [
    "## Conclusion\n",
    "\n",
    "These examples cover various aspects of multithreading in Python, from basic thread creation and synchronization to more advanced topics like using thread pools and daemon threads. Each snippet is designed to demonstrate best practices and common patterns in Python multithreading.\n"
   ]
  },
  {
   "cell_type": "code",
   "execution_count": null,
   "id": "55e9f6b5-d8ad-47e6-8cf1-55bfcbd41f39",
   "metadata": {},
   "outputs": [],
   "source": []
  }
 ],
 "metadata": {
  "kernelspec": {
   "display_name": "Python 3 (ipykernel)",
   "language": "python",
   "name": "python3"
  },
  "language_info": {
   "codemirror_mode": {
    "name": "ipython",
    "version": 3
   },
   "file_extension": ".py",
   "mimetype": "text/x-python",
   "name": "python",
   "nbconvert_exporter": "python",
   "pygments_lexer": "ipython3",
   "version": "3.10.12"
  }
 },
 "nbformat": 4,
 "nbformat_minor": 5
}
