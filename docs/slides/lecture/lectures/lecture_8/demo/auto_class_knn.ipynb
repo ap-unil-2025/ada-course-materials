{
 "cells": [
  {
   "cell_type": "code",
   "execution_count": 1,
   "id": "chronic-valve",
   "metadata": {},
   "outputs": [
    {
     "name": "stdout",
     "output_type": "stream",
     "text": [
      "0.6582278481012658\n",
      "0.6455696202531646\n",
      "0.6329113924050633\n"
     ]
    }
   ],
   "source": [
    "import numpy as np\n",
    "import pandas as pd\n",
    "from sklearn.model_selection import train_test_split\n",
    "from sklearn.neighbors import KNeighborsClassifier\n",
    "from sklearn.metrics import accuracy_score\n",
    "from sklearn.preprocessing import MinMaxScaler\n",
    "from sklearn.preprocessing import StandardScaler\n",
    "\n",
    "########################################################################\n",
    "# load data\n",
    "cars = pd.read_csv('auto-mpg.data.txt',header=None, sep='\\s+')\n",
    "\n",
    "\n",
    "# extract power and weight as data matrix X\n",
    "X = cars.iloc[:, [3,4]].values\n",
    "\n",
    "# extract origin (0:Non-U.S. / 1:U.S.) as target vector y\n",
    "y = cars.iloc[:, 7].values\n",
    "\n",
    "# split into training data (80%) and test data (20%)\n",
    "X_train, X_test, y_train, y_test = train_test_split(X, y, test_size=0.2,\n",
    "random_state=0)\n",
    "\n",
    "########################################################################\n",
    "# use kNN with k = 3\n",
    "knn = KNeighborsClassifier(n_neighbors=3)\n",
    "knn.fit(X_train, y_train)\n",
    "y_predicted = knn.predict(X_test)\n",
    "\n",
    "# compute accuracy\n",
    "print(accuracy_score(y_true=y_test, y_pred=y_predicted)) \n",
    "\n",
    "\n",
    "########################################################################\n",
    "# normalize data\n",
    "min_max_scaler = MinMaxScaler()\n",
    "min_max_scaler.fit(X_train) # determine min and max\n",
    "X_train_normalized = min_max_scaler.transform(X_train)\n",
    "X_test_normalized = min_max_scaler.transform(X_test)\n",
    "\n",
    "# use kNN with k = 3\n",
    "knn = KNeighborsClassifier(n_neighbors=3)\n",
    "knn.fit(X_train_normalized, y_train)\n",
    "y_predicted = knn.predict(X_test_normalized)\n",
    "\n",
    "# compute accuracy\n",
    "print(accuracy_score(y_true=y_test, y_pred=y_predicted)) \n",
    "\n",
    "\n",
    "########################################################################\n",
    "# normalize data\n",
    "scaler = StandardScaler()\n",
    "scaler.fit(X_train) # determine mean and standard deviation\n",
    "X_train_normalized = scaler.transform(X_train)\n",
    "X_test_normalized = scaler.transform(X_test)\n",
    "\n",
    "# use kNN with k = 3\n",
    "knn = KNeighborsClassifier(n_neighbors=3)\n",
    "knn.fit(X_train_normalized, y_train)\n",
    "y_predicted = knn.predict(X_test_normalized)\n",
    "\n",
    "# compute accuracy\n",
    "print(accuracy_score(y_true=y_test, y_pred=y_predicted)) \n"
   ]
  },
  {
   "cell_type": "code",
   "execution_count": null,
   "id": "interested-warrant",
   "metadata": {},
   "outputs": [],
   "source": []
  }
 ],
 "metadata": {
  "kernelspec": {
   "display_name": "Python 3",
   "language": "python",
   "name": "python3"
  },
  "language_info": {
   "codemirror_mode": {
    "name": "ipython",
    "version": 3
   },
   "file_extension": ".py",
   "mimetype": "text/x-python",
   "name": "python",
   "nbconvert_exporter": "python",
   "pygments_lexer": "ipython3",
   "version": "3.8.5"
  }
 },
 "nbformat": 4,
 "nbformat_minor": 5
}
