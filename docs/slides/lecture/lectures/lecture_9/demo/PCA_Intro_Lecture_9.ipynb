{
 "cells": [
  {
   "cell_type": "markdown",
   "id": "54cfd3de",
   "metadata": {},
   "source": [
    "\n",
    "# Principal Component Analysis (PCA): An Introduction *(Unsupervised Learning)*\n",
    "\n",
    "**Audience:** First-year MSc students in Economics & Finance  \n",
    "**Duration:** ~45–60 minutes  \n",
    "**Learning goals:**  \n",
    "- Understand PCA as a method for unsupervised learning and dimensionality reduction.  \n",
    "- Know the core linear algebra and statistical ideas behind PCA.  \n",
    "- Apply PCA in Python to realistic econ/finance-style datasets.  \n",
    "- Interpret loadings, scores, explained variance, and reconstruction.  \n",
    "- Recognize common pitfalls (scaling, outliers, interpretability).\n",
    "\n",
    "**Dependencies:** `numpy`, `pandas`, `matplotlib`, `scikit-learn`\n"
   ]
  },
  {
   "cell_type": "markdown",
   "id": "553beb86",
   "metadata": {},
   "source": [
    "\n",
    "## 1. Unsupervised Learning and Where PCA Fits\n",
    "\n",
    "In **unsupervised learning**, we observe a dataset $X \\in \\mathbb{R}^{n \\times p}$ with $n$ observations and $p$ variables, but **no labels** (no explicit target $y$).  \n",
    "The goal is to **discover structure** in the data—clusters, low-dimensional manifolds, or latent factors.\n",
    "\n",
    "**PCA** is a classical unsupervised method that:\n",
    "- finds orthogonal directions (principal components) capturing the **maximal variance** of the data;\n",
    "- provides a **low-dimensional representation** with minimal reconstruction error in the least-squares sense;\n",
    "- is widely used in **econometrics** (e.g., factor models), **portfolio analysis**, and **macro** (e.g., yield-curve factors).\n"
   ]
  },
  {
   "cell_type": "markdown",
   "id": "fdca5239",
   "metadata": {},
   "source": [
    "\n",
    "## 2. PCA Theory (Core Ideas)\n",
    "\n",
    "Let $X \\in \\mathbb{R}^{n \\times p}$ be the (column-)**centered** data matrix, i.e. each variable has zero mean.  \n",
    "Define the **sample covariance**:\n",
    "\n",
    "$$\n",
    "S = \\frac{1}{n-1} X^\\top X \\;\\in\\; \\mathbb{R}^{p \\times p}.\n",
    "$$\n",
    "\n",
    "Compute the **eigendecomposition** $S v_j = \\lambda_j v_j$ with eigenvalues $\\lambda_1 \\ge \\lambda_2 \\ge \\dots \\ge \\lambda_p \\ge 0$ and orthonormal eigenvectors $v_j$.  \n",
    "The **$j$-th principal component direction** is $v_j$, and the **scores** (principal component values) are\n",
    "\n",
    "$$\n",
    "Z = X V \\quad \\text{where } V = [v_1,\\dots,v_p].\n",
    "$$\n",
    "\n",
    "**Explained variance ratio** (EVR) of component $j$:\n",
    "\n",
    "$$\n",
    "\\mathrm{EVR}_j = \\frac{\\lambda_j}{\\sum_{k=1}^p \\lambda_k}, \n",
    "\\qquad \n",
    "\\mathrm{cumulative\\ EVR}(k) = \\sum_{j=1}^k \\mathrm{EVR}_j.\n",
    "$$\n",
    "\n",
    "**SVD view.** PCA is equivalent to the SVD of $X$: $X = U \\Sigma V^\\top$. The columns of $V$ are principal directions; scores are $Z = U\\Sigma$.  \n",
    "\n",
    "**Best rank-$k$ approximation** (Eckart–Young–Mirsky): the projection onto the first $k$ components minimizes\n",
    "\n",
    "$$\n",
    "\\| X - \\hat{X}_k \\|_F^2 = \\sum_{j=k+1}^{p} \\sigma_j^2,\n",
    "$$\n",
    "\n",
    "where $\\sigma_j$ are singular values.\n",
    "\n",
    "**Scaling.** If variables are on very different scales, apply **standardization** (z-scores) so PCA approximates eigenvectors of the **correlation** matrix instead of the covariance matrix.\n",
    "\n",
    "**Choosing $k$.** Common heuristics: scree plot (elbow), cumulative EVR (e.g., 90–95%), cross-validation on downstream tasks, or domain knowledge.\n"
   ]
  },
  {
   "cell_type": "code",
   "execution_count": 1,
   "id": "fee53636",
   "metadata": {},
   "outputs": [],
   "source": [
    "\n",
    "# --- Setup: imports and reproducibility ---\n",
    "import numpy as np\n",
    "import pandas as pd\n",
    "import matplotlib.pyplot as plt\n",
    "\n",
    "from sklearn.preprocessing import StandardScaler\n",
    "from sklearn.decomposition import PCA\n",
    "\n",
    "np.random.seed(42)\n",
    "pd.set_option(\"display.precision\", 4)\n",
    "\n",
    "# Matplotlib display defaults (optional)\n",
    "plt.rcParams['figure.figsize'] = (7, 4.5)\n"
   ]
  },
  {
   "cell_type": "code",
   "execution_count": 2,
   "id": "11001f5a",
   "metadata": {},
   "outputs": [],
   "source": [
    "\n",
    "# --- Plotting helpers (Matplotlib only, no seaborn) ---\n",
    "\n",
    "def plot_scree(pca, title=\"Scree Plot: Explained Variance by Component\"):\n",
    "    evr = pca.explained_variance_ratio_\n",
    "    fig = plt.figure()\n",
    "    plt.plot(np.arange(1, len(evr)+1), evr, marker=\"o\")\n",
    "    plt.xlabel(\"Component index\")\n",
    "    plt.ylabel(\"Explained variance ratio\")\n",
    "    plt.title(title)\n",
    "    plt.grid(True)\n",
    "    plt.show()\n",
    "\n",
    "def plot_cumulative_evr(pca, title=\"Cumulative Explained Variance\"):\n",
    "    cum = np.cumsum(pca.explained_variance_ratio_)\n",
    "    fig = plt.figure()\n",
    "    plt.plot(np.arange(1, len(cum)+1), cum, marker=\"o\")\n",
    "    plt.axhline(0.9, linestyle=\"--\")\n",
    "    plt.xlabel(\"Number of components\")\n",
    "    plt.ylabel(\"Cumulative EVR\")\n",
    "    plt.title(title)\n",
    "    plt.grid(True)\n",
    "    plt.show()\n",
    "\n",
    "def biplot(scores, loadings, feature_names=None, title=\"Biplot (PC1 vs PC2)\", scale_scores=1.0, scale_loadings=1.0):\n",
    "    # scores: (n, 2) matrix of PC scores for the first two components\n",
    "    # loadings: (p, 2) matrix of loadings for the first two components\n",
    "    fig = plt.figure()\n",
    "    plt.scatter(scores[:, 0]*scale_scores, scores[:, 1]*scale_scores, alpha=0.6)\n",
    "    for i in range(loadings.shape[0]):\n",
    "        x = loadings[i, 0]*scale_loadings\n",
    "        y = loadings[i, 1]*scale_loadings\n",
    "        plt.arrow(0, 0, x, y, head_width=0.02, head_length=0.03, linewidth=1, length_includes_head=True)\n",
    "        if feature_names is not None:\n",
    "            plt.text(x*1.08, y*1.08, feature_names[i], fontsize=8)\n",
    "    plt.axhline(0, linewidth=0.5)\n",
    "    plt.axvline(0, linewidth=0.5)\n",
    "    plt.xlabel(\"PC1\")\n",
    "    plt.ylabel(\"PC2\")\n",
    "    plt.title(title)\n",
    "    plt.grid(True)\n",
    "    plt.show()\n"
   ]
  },
  {
   "cell_type": "markdown",
   "id": "059a307b",
   "metadata": {},
   "source": [
    "\n",
    "## 3. Example A — Asset Returns with Latent Factors\n",
    "\n",
    "We simulate $T=500$ daily returns for $N=50$ assets driven by $K=3$ latent factors (e.g., market, size, momentum) with idiosyncratic noise.  \n",
    "We expect the first few PCs to explain a large share of the variance (as in factor models).\n"
   ]
  },
  {
   "cell_type": "code",
   "execution_count": 3,
   "id": "9e46b912",
   "metadata": {},
   "outputs": [
    {
     "data": {
      "text/html": [
       "<div>\n",
       "<style scoped>\n",
       "    .dataframe tbody tr th:only-of-type {\n",
       "        vertical-align: middle;\n",
       "    }\n",
       "\n",
       "    .dataframe tbody tr th {\n",
       "        vertical-align: top;\n",
       "    }\n",
       "\n",
       "    .dataframe thead th {\n",
       "        text-align: right;\n",
       "    }\n",
       "</style>\n",
       "<table border=\"1\" class=\"dataframe\">\n",
       "  <thead>\n",
       "    <tr style=\"text-align: right;\">\n",
       "      <th></th>\n",
       "      <th>Asset_00</th>\n",
       "      <th>Asset_01</th>\n",
       "      <th>Asset_02</th>\n",
       "      <th>Asset_03</th>\n",
       "      <th>Asset_04</th>\n",
       "      <th>Asset_05</th>\n",
       "      <th>Asset_06</th>\n",
       "      <th>Asset_07</th>\n",
       "      <th>Asset_08</th>\n",
       "      <th>Asset_09</th>\n",
       "      <th>...</th>\n",
       "      <th>Asset_40</th>\n",
       "      <th>Asset_41</th>\n",
       "      <th>Asset_42</th>\n",
       "      <th>Asset_43</th>\n",
       "      <th>Asset_44</th>\n",
       "      <th>Asset_45</th>\n",
       "      <th>Asset_46</th>\n",
       "      <th>Asset_47</th>\n",
       "      <th>Asset_48</th>\n",
       "      <th>Asset_49</th>\n",
       "    </tr>\n",
       "  </thead>\n",
       "  <tbody>\n",
       "    <tr>\n",
       "      <th>0</th>\n",
       "      <td>1.3645</td>\n",
       "      <td>-0.0967</td>\n",
       "      <td>-1.1911</td>\n",
       "      <td>0.3899</td>\n",
       "      <td>-1.1026</td>\n",
       "      <td>-0.0948</td>\n",
       "      <td>0.4366</td>\n",
       "      <td>0.9935</td>\n",
       "      <td>0.8045</td>\n",
       "      <td>-0.5725</td>\n",
       "      <td>...</td>\n",
       "      <td>-0.9586</td>\n",
       "      <td>0.9226</td>\n",
       "      <td>0.7070</td>\n",
       "      <td>1.2091</td>\n",
       "      <td>-0.4645</td>\n",
       "      <td>-1.1685</td>\n",
       "      <td>1.7495</td>\n",
       "      <td>1.0291</td>\n",
       "      <td>0.5252</td>\n",
       "      <td>-0.6555</td>\n",
       "    </tr>\n",
       "    <tr>\n",
       "      <th>1</th>\n",
       "      <td>0.7418</td>\n",
       "      <td>-0.7590</td>\n",
       "      <td>-1.4936</td>\n",
       "      <td>-0.3466</td>\n",
       "      <td>-1.9113</td>\n",
       "      <td>-0.5324</td>\n",
       "      <td>0.8528</td>\n",
       "      <td>0.6890</td>\n",
       "      <td>0.7826</td>\n",
       "      <td>0.3222</td>\n",
       "      <td>...</td>\n",
       "      <td>-0.6074</td>\n",
       "      <td>0.5541</td>\n",
       "      <td>1.3703</td>\n",
       "      <td>1.5279</td>\n",
       "      <td>0.0610</td>\n",
       "      <td>-0.9575</td>\n",
       "      <td>1.6358</td>\n",
       "      <td>1.2979</td>\n",
       "      <td>0.1753</td>\n",
       "      <td>-1.6671</td>\n",
       "    </tr>\n",
       "    <tr>\n",
       "      <th>2</th>\n",
       "      <td>1.4008</td>\n",
       "      <td>-1.7766</td>\n",
       "      <td>-0.5546</td>\n",
       "      <td>-0.5793</td>\n",
       "      <td>-1.2496</td>\n",
       "      <td>-1.7064</td>\n",
       "      <td>-0.3165</td>\n",
       "      <td>1.3957</td>\n",
       "      <td>0.6166</td>\n",
       "      <td>-0.1406</td>\n",
       "      <td>...</td>\n",
       "      <td>0.0122</td>\n",
       "      <td>-0.2755</td>\n",
       "      <td>0.6675</td>\n",
       "      <td>1.2604</td>\n",
       "      <td>-0.6745</td>\n",
       "      <td>-0.3810</td>\n",
       "      <td>2.5750</td>\n",
       "      <td>0.5429</td>\n",
       "      <td>0.4715</td>\n",
       "      <td>-0.8822</td>\n",
       "    </tr>\n",
       "    <tr>\n",
       "      <th>3</th>\n",
       "      <td>1.4830</td>\n",
       "      <td>-0.1822</td>\n",
       "      <td>-0.6999</td>\n",
       "      <td>-0.1700</td>\n",
       "      <td>-1.1973</td>\n",
       "      <td>-1.6232</td>\n",
       "      <td>0.8189</td>\n",
       "      <td>0.9278</td>\n",
       "      <td>-1.2357</td>\n",
       "      <td>0.6430</td>\n",
       "      <td>...</td>\n",
       "      <td>0.1016</td>\n",
       "      <td>-0.9626</td>\n",
       "      <td>-0.6817</td>\n",
       "      <td>1.6646</td>\n",
       "      <td>-0.1410</td>\n",
       "      <td>-0.8666</td>\n",
       "      <td>1.6263</td>\n",
       "      <td>0.4671</td>\n",
       "      <td>0.2404</td>\n",
       "      <td>-1.5823</td>\n",
       "    </tr>\n",
       "    <tr>\n",
       "      <th>4</th>\n",
       "      <td>0.4916</td>\n",
       "      <td>0.1342</td>\n",
       "      <td>-1.0587</td>\n",
       "      <td>0.2501</td>\n",
       "      <td>-0.3843</td>\n",
       "      <td>-1.0332</td>\n",
       "      <td>-0.8150</td>\n",
       "      <td>0.5210</td>\n",
       "      <td>-0.3399</td>\n",
       "      <td>0.7069</td>\n",
       "      <td>...</td>\n",
       "      <td>-0.4315</td>\n",
       "      <td>-0.6114</td>\n",
       "      <td>-0.2511</td>\n",
       "      <td>1.0184</td>\n",
       "      <td>-0.8031</td>\n",
       "      <td>0.2734</td>\n",
       "      <td>0.4588</td>\n",
       "      <td>0.7338</td>\n",
       "      <td>-0.1349</td>\n",
       "      <td>-1.3839</td>\n",
       "    </tr>\n",
       "  </tbody>\n",
       "</table>\n",
       "<p>5 rows × 50 columns</p>\n",
       "</div>"
      ],
      "text/plain": [
       "   Asset_00  Asset_01  Asset_02  Asset_03  Asset_04  Asset_05  Asset_06  \\\n",
       "0    1.3645   -0.0967   -1.1911    0.3899   -1.1026   -0.0948    0.4366   \n",
       "1    0.7418   -0.7590   -1.4936   -0.3466   -1.9113   -0.5324    0.8528   \n",
       "2    1.4008   -1.7766   -0.5546   -0.5793   -1.2496   -1.7064   -0.3165   \n",
       "3    1.4830   -0.1822   -0.6999   -0.1700   -1.1973   -1.6232    0.8189   \n",
       "4    0.4916    0.1342   -1.0587    0.2501   -0.3843   -1.0332   -0.8150   \n",
       "\n",
       "   Asset_07  Asset_08  Asset_09  ...  Asset_40  Asset_41  Asset_42  Asset_43  \\\n",
       "0    0.9935    0.8045   -0.5725  ...   -0.9586    0.9226    0.7070    1.2091   \n",
       "1    0.6890    0.7826    0.3222  ...   -0.6074    0.5541    1.3703    1.5279   \n",
       "2    1.3957    0.6166   -0.1406  ...    0.0122   -0.2755    0.6675    1.2604   \n",
       "3    0.9278   -1.2357    0.6430  ...    0.1016   -0.9626   -0.6817    1.6646   \n",
       "4    0.5210   -0.3399    0.7069  ...   -0.4315   -0.6114   -0.2511    1.0184   \n",
       "\n",
       "   Asset_44  Asset_45  Asset_46  Asset_47  Asset_48  Asset_49  \n",
       "0   -0.4645   -1.1685    1.7495    1.0291    0.5252   -0.6555  \n",
       "1    0.0610   -0.9575    1.6358    1.2979    0.1753   -1.6671  \n",
       "2   -0.6745   -0.3810    2.5750    0.5429    0.4715   -0.8822  \n",
       "3   -0.1410   -0.8666    1.6263    0.4671    0.2404   -1.5823  \n",
       "4   -0.8031    0.2734    0.4588    0.7338   -0.1349   -1.3839  \n",
       "\n",
       "[5 rows x 50 columns]"
      ]
     },
     "execution_count": 3,
     "metadata": {},
     "output_type": "execute_result"
    }
   ],
   "source": [
    "\n",
    "# --- Simulate factor-driven asset returns ---\n",
    "T = 500     # time points (observations)\n",
    "N = 50      # assets (features)\n",
    "K_true = 3  # latent factors\n",
    "\n",
    "# latent factors (T x K)\n",
    "F = np.random.normal(size=(T, K_true))\n",
    "# smoother factors for realism\n",
    "for k in range(K_true):\n",
    "    F[:, k] = np.convolve(F[:, k], np.ones(5)/5, mode='same')\n",
    "\n",
    "# loadings (N x K)\n",
    "L = np.random.normal(scale=0.5, size=(N, K_true))\n",
    "# add structure: first PC loads broadly (\"market\"), others more selective\n",
    "L[:, 0] += 1.0 * np.random.choice([1, -1], size=N)\n",
    "\n",
    "# idiosyncratic noise\n",
    "E = 0.5 * np.random.normal(size=(T, N))\n",
    "\n",
    "# returns matrix: X_raw (T x N)\n",
    "X_raw = F @ L.T + E\n",
    "\n",
    "asset_names = [f\"Asset_{i:02d}\" for i in range(N)]\n",
    "df_returns = pd.DataFrame(X_raw, columns=asset_names)\n",
    "df_returns.head()\n"
   ]
  },
  {
   "cell_type": "markdown",
   "id": "1e79b55a",
   "metadata": {},
   "source": [
    "\n",
    "### 3.1 Standardize and Fit PCA\n",
    "\n",
    "With returns, variables (assets) are already comparable in scale; still, standardizing columns (z-scores) is common so each asset has zero mean and unit variance.\n"
   ]
  },
  {
   "cell_type": "code",
   "execution_count": 4,
   "id": "20ed4fa9",
   "metadata": {},
   "outputs": [
    {
     "data": {
      "text/plain": [
       "PC1     0.3336\n",
       "PC2     0.1540\n",
       "PC3     0.0750\n",
       "PC4     0.0199\n",
       "PC5     0.0191\n",
       "PC6     0.0173\n",
       "PC7     0.0166\n",
       "PC8     0.0160\n",
       "PC9     0.0154\n",
       "PC10    0.0147\n",
       "Name: EVR (first 10), dtype: float64"
      ]
     },
     "execution_count": 4,
     "metadata": {},
     "output_type": "execute_result"
    }
   ],
   "source": [
    "\n",
    "# --- Standardize (column-wise) and run PCA ---\n",
    "scaler = StandardScaler(with_mean=True, with_std=True)\n",
    "X = scaler.fit_transform(df_returns.values)  # (T x N)\n",
    "\n",
    "pca = PCA(n_components=N, svd_solver=\"full\", random_state=42)\n",
    "Z = pca.fit_transform(X)   # scores (T x N)\n",
    "V = pca.components_.T      # loadings/directions (N x N), columns = components\n",
    "\n",
    "explained = pca.explained_variance_ratio_\n",
    "pd.Series(explained[:10], index=[f\"PC{i+1}\" for i in range(10)], name=\"EVR (first 10)\")\n"
   ]
  },
  {
   "cell_type": "code",
   "execution_count": 5,
   "id": "cbc814a1",
   "metadata": {},
   "outputs": [
    {
     "data": {
      "image/png": "[encoded data removed]",
      "text/plain": [
       "<Figure size 432x288 with 1 Axes>"
      ]
     },
     "metadata": {
      "needs_background": "light"
     },
     "output_type": "display_data"
    },
    {
     "data": {
      "image/png": "[encoded data removed]",
      "text/plain": [
       "<Figure size 432x288 with 1 Axes>"
      ]
     },
     "metadata": {
      "needs_background": "light"
     },
     "output_type": "display_data"
    }
   ],
   "source": [
    "\n",
    "# --- Scree and cumulative EVR ---\n",
    "plot_scree(pca, title=\"Scree Plot (Asset Returns)\")\n",
    "plot_cumulative_evr(pca, title=\"Cumulative EVR (Asset Returns)\")\n"
   ]
  },
  {
   "cell_type": "markdown",
   "id": "aab417e0",
   "metadata": {},
   "source": [
    "\n",
    "### 3.2 Interpreting Loadings and Scores\n",
    "\n",
    "- **Loadings** (columns of $V$) show how each asset contributes to a principal component.  \n",
    "- **Scores** $Z$ are the time-series of the principal components.\n",
    "\n",
    "Below: the top 10 assets by absolute loading on PC1.\n"
   ]
  },
  {
   "cell_type": "code",
   "execution_count": 6,
   "id": "c907a98f",
   "metadata": {},
   "outputs": [
    {
     "data": {
      "text/html": [
       "<div>\n",
       "<style scoped>\n",
       "    .dataframe tbody tr th:only-of-type {\n",
       "        vertical-align: middle;\n",
       "    }\n",
       "\n",
       "    .dataframe tbody tr th {\n",
       "        vertical-align: top;\n",
       "    }\n",
       "\n",
       "    .dataframe thead th {\n",
       "        text-align: right;\n",
       "    }\n",
       "</style>\n",
       "<table border=\"1\" class=\"dataframe\">\n",
       "  <thead>\n",
       "    <tr style=\"text-align: right;\">\n",
       "      <th></th>\n",
       "      <th>asset</th>\n",
       "      <th>loading_PC1</th>\n",
       "    </tr>\n",
       "  </thead>\n",
       "  <tbody>\n",
       "    <tr>\n",
       "      <th>0</th>\n",
       "      <td>Asset_13</td>\n",
       "      <td>0.2161</td>\n",
       "    </tr>\n",
       "    <tr>\n",
       "      <th>1</th>\n",
       "      <td>Asset_46</td>\n",
       "      <td>-0.2041</td>\n",
       "    </tr>\n",
       "    <tr>\n",
       "      <th>2</th>\n",
       "      <td>Asset_47</td>\n",
       "      <td>-0.2009</td>\n",
       "    </tr>\n",
       "    <tr>\n",
       "      <th>3</th>\n",
       "      <td>Asset_37</td>\n",
       "      <td>0.1981</td>\n",
       "    </tr>\n",
       "    <tr>\n",
       "      <th>4</th>\n",
       "      <td>Asset_33</td>\n",
       "      <td>0.1885</td>\n",
       "    </tr>\n",
       "    <tr>\n",
       "      <th>5</th>\n",
       "      <td>Asset_35</td>\n",
       "      <td>0.1879</td>\n",
       "    </tr>\n",
       "    <tr>\n",
       "      <th>6</th>\n",
       "      <td>Asset_07</td>\n",
       "      <td>-0.1855</td>\n",
       "    </tr>\n",
       "    <tr>\n",
       "      <th>7</th>\n",
       "      <td>Asset_39</td>\n",
       "      <td>0.1832</td>\n",
       "    </tr>\n",
       "    <tr>\n",
       "      <th>8</th>\n",
       "      <td>Asset_00</td>\n",
       "      <td>-0.1821</td>\n",
       "    </tr>\n",
       "    <tr>\n",
       "      <th>9</th>\n",
       "      <td>Asset_43</td>\n",
       "      <td>-0.1816</td>\n",
       "    </tr>\n",
       "  </tbody>\n",
       "</table>\n",
       "</div>"
      ],
      "text/plain": [
       "      asset  loading_PC1\n",
       "0  Asset_13       0.2161\n",
       "1  Asset_46      -0.2041\n",
       "2  Asset_47      -0.2009\n",
       "3  Asset_37       0.1981\n",
       "4  Asset_33       0.1885\n",
       "5  Asset_35       0.1879\n",
       "6  Asset_07      -0.1855\n",
       "7  Asset_39       0.1832\n",
       "8  Asset_00      -0.1821\n",
       "9  Asset_43      -0.1816"
      ]
     },
     "execution_count": 6,
     "metadata": {},
     "output_type": "execute_result"
    }
   ],
   "source": [
    "\n",
    "# --- Top assets by loading on PC1 ---\n",
    "pc1_load = V[:, 0]\n",
    "order = np.argsort(-np.abs(pc1_load))[:10]\n",
    "top_pc1 = pd.DataFrame({\n",
    "    \"asset\": np.array(asset_names)[order],\n",
    "    \"loading_PC1\": pc1_load[order]\n",
    "}).reset_index(drop=True)\n",
    "top_pc1\n"
   ]
  },
  {
   "cell_type": "code",
   "execution_count": 7,
   "id": "4ef10485",
   "metadata": {},
   "outputs": [
    {
     "data": {
      "image/png": "[encoded data removed]",
      "text/plain": [
       "<Figure size 432x288 with 1 Axes>"
      ]
     },
     "metadata": {
      "needs_background": "light"
     },
     "output_type": "display_data"
    }
   ],
   "source": [
    "\n",
    "# --- Biplot for PC1 vs PC2 ---\n",
    "scores_12 = Z[:, :2]\n",
    "loads_12 = V[:, :2]\n",
    "biplot(scores_12, loads_12, feature_names=asset_names, \n",
    "       title=\"Biplot: Asset Returns (PC1 vs PC2)\", scale_scores=1.0, scale_loadings=2.5)\n"
   ]
  },
  {
   "cell_type": "markdown",
   "id": "32712e62",
   "metadata": {},
   "source": [
    "\n",
    "## 4. Example B — Yield Curve (Level, Slope, Curvature)\n",
    "\n",
    "A classic result is that government yield curves are well-described by three components: **level**, **slope**, and **curvature**.  \n",
    "We simulate synthetic yields for $M=10$ maturities and $T=300$ days from a 3-factor structure and recover them via PCA.\n"
   ]
  },
  {
   "cell_type": "code",
   "execution_count": 8,
   "id": "3a3985d5",
   "metadata": {},
   "outputs": [
    {
     "data": {
      "text/html": [
       "<div>\n",
       "<style scoped>\n",
       "    .dataframe tbody tr th:only-of-type {\n",
       "        vertical-align: middle;\n",
       "    }\n",
       "\n",
       "    .dataframe tbody tr th {\n",
       "        vertical-align: top;\n",
       "    }\n",
       "\n",
       "    .dataframe thead th {\n",
       "        text-align: right;\n",
       "    }\n",
       "</style>\n",
       "<table border=\"1\" class=\"dataframe\">\n",
       "  <thead>\n",
       "    <tr style=\"text-align: right;\">\n",
       "      <th></th>\n",
       "      <th>0.25y</th>\n",
       "      <th>0.5y</th>\n",
       "      <th>1.0y</th>\n",
       "      <th>2.0y</th>\n",
       "      <th>3.0y</th>\n",
       "      <th>5.0y</th>\n",
       "      <th>7.0y</th>\n",
       "      <th>10.0y</th>\n",
       "      <th>20.0y</th>\n",
       "      <th>30.0y</th>\n",
       "    </tr>\n",
       "  </thead>\n",
       "  <tbody>\n",
       "    <tr>\n",
       "      <th>0</th>\n",
       "      <td>1.9576</td>\n",
       "      <td>1.9122</td>\n",
       "      <td>1.9441</td>\n",
       "      <td>1.9444</td>\n",
       "      <td>1.9475</td>\n",
       "      <td>1.9560</td>\n",
       "      <td>2.0502</td>\n",
       "      <td>2.1052</td>\n",
       "      <td>2.0958</td>\n",
       "      <td>2.1910</td>\n",
       "    </tr>\n",
       "    <tr>\n",
       "      <th>1</th>\n",
       "      <td>1.9312</td>\n",
       "      <td>1.8643</td>\n",
       "      <td>1.9390</td>\n",
       "      <td>2.0080</td>\n",
       "      <td>1.9400</td>\n",
       "      <td>2.0107</td>\n",
       "      <td>2.0426</td>\n",
       "      <td>2.0029</td>\n",
       "      <td>2.1337</td>\n",
       "      <td>2.2367</td>\n",
       "    </tr>\n",
       "    <tr>\n",
       "      <th>2</th>\n",
       "      <td>1.9586</td>\n",
       "      <td>1.9634</td>\n",
       "      <td>1.9782</td>\n",
       "      <td>1.9314</td>\n",
       "      <td>1.9703</td>\n",
       "      <td>2.0300</td>\n",
       "      <td>2.0536</td>\n",
       "      <td>2.0428</td>\n",
       "      <td>2.1184</td>\n",
       "      <td>2.2601</td>\n",
       "    </tr>\n",
       "    <tr>\n",
       "      <th>3</th>\n",
       "      <td>1.9596</td>\n",
       "      <td>1.9616</td>\n",
       "      <td>1.9746</td>\n",
       "      <td>1.9333</td>\n",
       "      <td>1.9976</td>\n",
       "      <td>1.9974</td>\n",
       "      <td>2.0474</td>\n",
       "      <td>2.0440</td>\n",
       "      <td>2.1579</td>\n",
       "      <td>2.2458</td>\n",
       "    </tr>\n",
       "    <tr>\n",
       "      <th>4</th>\n",
       "      <td>1.9339</td>\n",
       "      <td>1.9259</td>\n",
       "      <td>1.9824</td>\n",
       "      <td>1.9431</td>\n",
       "      <td>1.9692</td>\n",
       "      <td>1.9890</td>\n",
       "      <td>2.0315</td>\n",
       "      <td>2.0709</td>\n",
       "      <td>2.0998</td>\n",
       "      <td>2.2133</td>\n",
       "    </tr>\n",
       "  </tbody>\n",
       "</table>\n",
       "</div>"
      ],
      "text/plain": [
       "    0.25y    0.5y    1.0y    2.0y    3.0y    5.0y    7.0y   10.0y   20.0y  \\\n",
       "0  1.9576  1.9122  1.9441  1.9444  1.9475  1.9560  2.0502  2.1052  2.0958   \n",
       "1  1.9312  1.8643  1.9390  2.0080  1.9400  2.0107  2.0426  2.0029  2.1337   \n",
       "2  1.9586  1.9634  1.9782  1.9314  1.9703  2.0300  2.0536  2.0428  2.1184   \n",
       "3  1.9596  1.9616  1.9746  1.9333  1.9976  1.9974  2.0474  2.0440  2.1579   \n",
       "4  1.9339  1.9259  1.9824  1.9431  1.9692  1.9890  2.0315  2.0709  2.0998   \n",
       "\n",
       "    30.0y  \n",
       "0  2.1910  \n",
       "1  2.2367  \n",
       "2  2.2601  \n",
       "3  2.2458  \n",
       "4  2.2133  "
      ]
     },
     "execution_count": 8,
     "metadata": {},
     "output_type": "execute_result"
    }
   ],
   "source": [
    "\n",
    "# --- Simulate synthetic yields ---\n",
    "T2 = 300\n",
    "maturities = np.array([0.25, 0.5, 1, 2, 3, 5, 7, 10, 20, 30])  # in years\n",
    "M = len(maturities)\n",
    "\n",
    "# latent factors: level, slope, curvature\n",
    "level = 2.0 + 0.1*np.sin(np.linspace(0, 10, T2))\n",
    "slope = -0.5 + 0.2*np.cos(np.linspace(0, 5, T2))\n",
    "curv  = 0.3*np.sin(np.linspace(0, 8, T2))\n",
    "\n",
    "# factor loadings by maturity\n",
    "L_level = np.ones(M)\n",
    "L_slope = -(maturities - maturities.mean()) / maturities.ptp()\n",
    "L_curv  = -((maturities - maturities.mean())**2) / (maturities.ptp()**2) + 0.5\n",
    "\n",
    "# construct yields + noise\n",
    "Y = np.outer(level, L_level) + np.outer(slope, L_slope) + np.outer(curv, L_curv)\n",
    "Y += 0.03 * np.random.normal(size=Y.shape)  # small noise\n",
    "\n",
    "yield_cols = [f\"{m}y\" for m in maturities]\n",
    "df_yields = pd.DataFrame(Y, columns=yield_cols)\n",
    "df_yields.head()\n"
   ]
  },
  {
   "cell_type": "code",
   "execution_count": 9,
   "id": "5e968f42",
   "metadata": {},
   "outputs": [
    {
     "data": {
      "image/png": "[encoded data removed]",
      "text/plain": [
       "<Figure size 432x288 with 1 Axes>"
      ]
     },
     "metadata": {
      "needs_background": "light"
     },
     "output_type": "display_data"
    },
    {
     "data": {
      "image/png": "[encoded data removed]",
      "text/plain": [
       "<Figure size 432x288 with 1 Axes>"
      ]
     },
     "metadata": {
      "needs_background": "light"
     },
     "output_type": "display_data"
    }
   ],
   "source": [
    "\n",
    "# --- Standardize across maturities and PCA ---\n",
    "scaler_y = StandardScaler()\n",
    "Y_std = scaler_y.fit_transform(df_yields.values)\n",
    "\n",
    "pca_y = PCA(n_components=M, svd_solver=\"full\", random_state=42)\n",
    "Zy = pca_y.fit_transform(Y_std)\n",
    "Vy = pca_y.components_.T\n",
    "\n",
    "plot_scree(pca_y, title=\"Scree Plot (Yields)\")\n",
    "plot_cumulative_evr(pca_y, title=\"Cumulative EVR (Yields)\")\n"
   ]
  },
  {
   "cell_type": "code",
   "execution_count": 10,
   "id": "6c90e726",
   "metadata": {},
   "outputs": [
    {
     "data": {
      "image/png": "[encoded data removed]",
      "text/plain": [
       "<Figure size 432x288 with 1 Axes>"
      ]
     },
     "metadata": {
      "needs_background": "light"
     },
     "output_type": "display_data"
    }
   ],
   "source": [
    "\n",
    "# --- Inspect first three loading shapes vs maturity ---\n",
    "fig = plt.figure()\n",
    "for j in range(3):\n",
    "    plt.plot(maturities, Vy[:, j], marker=\"o\", label=f\"PC{j+1}\")\n",
    "plt.xlabel(\"Maturity (years)\")\n",
    "plt.ylabel(\"Loading\")\n",
    "plt.title(\"Yield PCA: First Three Loading Curves\")\n",
    "plt.grid(True)\n",
    "plt.legend()\n",
    "plt.show()\n"
   ]
  },
  {
   "cell_type": "markdown",
   "id": "d1ba16a7",
   "metadata": {},
   "source": [
    "\n",
    "**Interpretation:**  \n",
    "- **PC1** typically resembles *level* (roughly constant across maturities).  \n",
    "- **PC2** resembles *slope* (positive at short end, negative at long end, or vice versa).  \n",
    "- **PC3** resembles *curvature* (hump-shaped).\n",
    "\n",
    "This aligns with macro-finance evidence that a small number of factors explain most yield-curve movements.\n"
   ]
  },
  {
   "cell_type": "markdown",
   "id": "6c0b9d79",
   "metadata": {},
   "source": [
    "\n",
    "## 5. Reconstruction and Approximation Error\n",
    "\n",
    "Given $X$ and PCA with directions $V$, the **rank-$k$ reconstruction** is\n",
    "\n",
    "$$\n",
    "\\hat{X}_k = Z_k V_k^\\top,\n",
    "$$\n",
    "\n",
    "where $Z_k$ are the first $k$ scores and $V_k$ the first $k$ directions.  \n",
    "The **Frobenius reconstruction error** satisfies\n",
    "\n",
    "$$\n",
    "\\lVert X - \\hat{X}_k \\rVert_F^2 = \\sum_{j=k+1}^{p} \\sigma_j^2.\n",
    "$$\n",
    "\n",
    "Below we compute reconstruction error as a function of $k$ for the returns example.\n"
   ]
  },
  {
   "cell_type": "code",
   "execution_count": 11,
   "id": "7fd05341",
   "metadata": {},
   "outputs": [
    {
     "data": {
      "image/png": "[encoded data removed]",
      "text/plain": [
       "<Figure size 432x288 with 1 Axes>"
      ]
     },
     "metadata": {
      "needs_background": "light"
     },
     "output_type": "display_data"
    }
   ],
   "source": [
    "\n",
    "# --- Reconstruction error vs k (asset returns) ---\n",
    "errs = []\n",
    "for k in range(1, N+1):\n",
    "    Uk = Z[:, :k]               # (T x k)\n",
    "    Vk = V[:, :k]               # (N x k)\n",
    "    Xk = Uk @ Vk.T              # (T x N)\n",
    "    err = np.linalg.norm(X - Xk, ord='fro')**2\n",
    "    errs.append(err)\n",
    "\n",
    "fig = plt.figure()\n",
    "plt.plot(range(1, N+1), errs, marker=\"o\")\n",
    "plt.xlabel(\"k (number of components)\")\n",
    "plt.ylabel(\"Reconstruction error (Frobenius norm squared)\")\n",
    "plt.title(\"Reconstruction Error vs k (Asset Returns)\")\n",
    "plt.grid(True)\n",
    "plt.show()\n"
   ]
  },
  {
   "cell_type": "markdown",
   "id": "c2b91402",
   "metadata": {},
   "source": [
    "\n",
    "## 6. Practical Considerations\n",
    "\n",
    "- **Centering and scaling:** Center columns; scale if units differ. Using `StandardScaler` makes PCA approximate eigenvectors of the **correlation** matrix.\n",
    "- **Outliers:** PCA is least-squares optimal but sensitive to outliers. Consider robust scaling or outlier detection before PCA.\n",
    "- **Interpretability:** Components are linear combinations of variables; rotation (e.g., varimax) or sparse PCA can aid interpretation.\n",
    "- **Missing data:** Impute (e.g., mean, KNN) before PCA or use methods that handle missingness.\n",
    "- **Choosing $k$:** Use scree, cumulative EVR, or downstream task performance.\n",
    "- **Computation:** For large $n,p$, use `svd_solver=\"randomized\"` in `sklearn` to speed up estimation.\n",
    "- **Whitening:** Setting `whiten=True` scales scores to unit variance; useful in some pipelines but changes the metric.\n"
   ]
  },
  {
   "cell_type": "markdown",
   "id": "2edad573",
   "metadata": {},
   "source": [
    "\n",
    "## 7. Using `scikit-learn` PCA Correctly\n",
    "\n",
    "A minimal pattern:\n"
   ]
  },
  {
   "cell_type": "code",
   "execution_count": 12,
   "id": "440112c4",
   "metadata": {},
   "outputs": [
    {
     "data": {
      "text/plain": [
       "array([0.33363882, 0.48763071, 0.56266242, 0.5825955 , 0.60164908,\n",
       "       0.61895507, 0.63554704, 0.65156394, 0.66692703, 0.68159489])"
      ]
     },
     "execution_count": 12,
     "metadata": {},
     "output_type": "execute_result"
    }
   ],
   "source": [
    "\n",
    "from sklearn.pipeline import make_pipeline\n",
    "\n",
    "pipe = make_pipeline(\n",
    "    StandardScaler(with_mean=True, with_std=True),\n",
    "    PCA(n_components=0.95, svd_solver=\"full\", random_state=42)  # keep 95% variance\n",
    ")\n",
    "\n",
    "pipe.fit(df_returns.values)\n",
    "pca_model = pipe.named_steps[\"pca\"]\n",
    "pca_model.explained_variance_ratio_.cumsum()[:10]\n"
   ]
  },
  {
   "cell_type": "markdown",
   "id": "7f1dba90",
   "metadata": {},
   "source": [
    "\n",
    "## 8. Exercises (with Solutions)\n",
    "\n",
    "Work through the following short exercises. Try to implement your answer in the **Exercise** cell first, then reveal/execute the **Solution** cell.\n"
   ]
  },
  {
   "cell_type": "markdown",
   "id": "cbb77943",
   "metadata": {},
   "source": [
    "\n",
    "### Exercise 1 — Standardize and PCA on Returns\n",
    "**Task:** Using `df_returns`, standardize the columns, fit PCA, and report how many components are needed to explain **90%** of the variance.\n"
   ]
  },
  {
   "cell_type": "code",
   "execution_count": 13,
   "id": "4ba6722a",
   "metadata": {},
   "outputs": [],
   "source": [
    "\n",
    "# --- Exercise 1 (your code) ---\n",
    "# TODO: compute number of components for 90% EVR\n",
    "# Hint: StandardScaler -> PCA -> np.argmax(np.cumsum(evr) >= 0.90) + 1\n"
   ]
  },
  {
   "cell_type": "code",
   "execution_count": 14,
   "id": "68447a63",
   "metadata": {},
   "outputs": [
    {
     "name": "stdout",
     "output_type": "stream",
     "text": [
      "Number of components for 90% EVR = 32\n"
     ]
    }
   ],
   "source": [
    "\n",
    "# --- Solution 1 ---\n",
    "sc = StandardScaler()\n",
    "X_ex1 = sc.fit_transform(df_returns.values)\n",
    "pca_ex1 = PCA().fit(X_ex1)\n",
    "k90 = np.argmax(np.cumsum(pca_ex1.explained_variance_ratio_) >= 0.90) + 1\n",
    "print(\"Number of components for 90% EVR =\", k90)\n"
   ]
  },
  {
   "cell_type": "markdown",
   "id": "2c8963aa",
   "metadata": {},
   "source": [
    "\n",
    "### Exercise 2 — Reconstruction Error\n",
    "**Task:** For the returns data, reconstruct $X$ using the first $k=3$ components and compute the squared Frobenius error $\\|X - \\hat{X}_3\\|_F^2$.\n"
   ]
  },
  {
   "cell_type": "code",
   "execution_count": 15,
   "id": "5a0f66a6",
   "metadata": {},
   "outputs": [],
   "source": [
    "\n",
    "# --- Exercise 2 (your code) ---\n",
    "# TODO: use Z (scores) and V (loadings) from earlier PCA fit; compute reconstruction with k=3\n"
   ]
  },
  {
   "cell_type": "code",
   "execution_count": 16,
   "id": "d993277f",
   "metadata": {},
   "outputs": [
    {
     "name": "stdout",
     "output_type": "stream",
     "text": [
      "Squared Frobenius reconstruction error (k=3): 10933.439470968951\n"
     ]
    }
   ],
   "source": [
    "\n",
    "# --- Solution 2 ---\n",
    "k = 3\n",
    "Uk = Z[:, :k]\n",
    "Vk = V[:, :k]\n",
    "Xk = Uk @ Vk.T\n",
    "err_k = np.linalg.norm(X - Xk, ord='fro')**2\n",
    "print(\"Squared Frobenius reconstruction error (k=3):\", float(err_k))\n"
   ]
  },
  {
   "cell_type": "markdown",
   "id": "02b73a65",
   "metadata": {},
   "source": [
    "\n",
    "### Exercise 3 — Yield PCA Interpretation\n",
    "**Task:** Using the yield PCA `pca_y`, check the signs and shapes of the first three loading vectors against maturities.  \n",
    "**Question:** Which corresponds to level, slope, and curvature in your simulation?\n"
   ]
  },
  {
   "cell_type": "code",
   "execution_count": 17,
   "id": "f8d3d833",
   "metadata": {},
   "outputs": [],
   "source": [
    "\n",
    "# --- Exercise 3 (your code) ---\n",
    "# TODO: inspect Vy[:, :3] vs maturities; comment based on the shapes.\n"
   ]
  },
  {
   "cell_type": "code",
   "execution_count": 18,
   "id": "34a9e77a",
   "metadata": {},
   "outputs": [
    {
     "name": "stdout",
     "output_type": "stream",
     "text": [
      "PC1 loading (first 5 values): [0.337 0.338 0.338 0.338 0.339]\n",
      "PC2 loading (first 5 values): [-0.065 -0.046 -0.054 -0.059 -0.029]\n",
      "PC3 loading (first 5 values): [-0.099 -0.169 -0.079 -0.147 -0.152]\n",
      "Interpretation: PC1 ~ level (nearly flat); PC2 ~ slope (monotone across maturities); PC3 ~ curvature (hump).\n"
     ]
    }
   ],
   "source": [
    "\n",
    "# --- Solution 3 (illustration) ---\n",
    "for j in range(3):\n",
    "    print(f\"PC{j+1} loading (first 5 values):\", np.round(Vy[:5, j], 3))\n",
    "print(\"Interpretation: PC1 ~ level (nearly flat); PC2 ~ slope (monotone across maturities); PC3 ~ curvature (hump).\")\n"
   ]
  },
  {
   "cell_type": "markdown",
   "id": "7d0419da",
   "metadata": {},
   "source": [
    "\n",
    "### (Optional) Exercise 4 — Randomized SVD\n",
    "**Task:** Re-run PCA on the returns using `svd_solver=\"randomized\"` with `n_components=10`.  \n",
    "Compare the first 10 EVRs to the full SVD solution.\n"
   ]
  },
  {
   "cell_type": "code",
   "execution_count": 19,
   "id": "142b9bb1",
   "metadata": {},
   "outputs": [],
   "source": [
    "\n",
    "# --- Exercise 4 (your code) ---\n",
    "# TODO: PCA(n_components=10, svd_solver=\"randomized\") and compare explained variance ratios.\n"
   ]
  },
  {
   "cell_type": "code",
   "execution_count": 20,
   "id": "dca938c9",
   "metadata": {},
   "outputs": [
    {
     "name": "stdout",
     "output_type": "stream",
     "text": [
      "Full SVD EVR (first 10): [0.3336 0.154  0.075  0.0199 0.0191 0.0173 0.0166 0.016  0.0154 0.0147]\n",
      "Randomized SVD EVR (first 10): [0.3336 0.154  0.075  0.0199 0.019  0.0173 0.0166 0.016  0.0153 0.0144]\n"
     ]
    }
   ],
   "source": [
    "\n",
    "# --- Solution 4 ---\n",
    "pca_full = PCA(n_components=10, svd_solver=\"full\", random_state=42).fit(X)\n",
    "pca_rand = PCA(n_components=10, svd_solver=\"randomized\", random_state=42).fit(X)\n",
    "print(\"Full SVD EVR (first 10):\", np.round(pca_full.explained_variance_ratio_, 4))\n",
    "print(\"Randomized SVD EVR (first 10):\", np.round(pca_rand.explained_variance_ratio_, 4))\n"
   ]
  },
  {
   "cell_type": "markdown",
   "id": "f90ca855",
   "metadata": {},
   "source": [
    "\n",
    "## 9. Summary\n",
    "\n",
    "- PCA finds orthogonal directions of maximal variance.  \n",
    "- Use standardized data when scales differ.  \n",
    "- Inspect **scree** and **cumulative EVR** to choose $k$.  \n",
    "- Interpret loadings carefully; signs can flip without changing the subspace.  \n",
    "- In econ/finance, PCA connects to latent factor models, portfolio risk, and yield-curve analysis.\n",
    "\n",
    "**Next steps:** explore kernel PCA, sparse PCA, or dynamic factor models; try PCA on real datasets (macro panels, high-dimensional returns).\n"
   ]
  },
  {
   "cell_type": "code",
   "execution_count": null,
   "id": "85d7a43b-ccf9-4c50-8c60-d687014d5f8b",
   "metadata": {},
   "outputs": [],
   "source": []
  }
 ],
 "metadata": {
  "kernelspec": {
   "display_name": "Python 3 (ipykernel)",
   "language": "python",
   "name": "python3"
  },
  "language_info": {
   "codemirror_mode": {
    "name": "ipython",
    "version": 3
   },
   "file_extension": ".py",
   "mimetype": "text/x-python",
   "name": "python",
   "nbconvert_exporter": "python",
   "pygments_lexer": "ipython3",
   "version": "3.10.12"
  }
 },
 "nbformat": 4,
 "nbformat_minor": 5
}
